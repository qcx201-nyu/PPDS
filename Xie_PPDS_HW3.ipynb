{
 "cells": [
  {
   "cell_type": "markdown",
   "metadata": {},
   "source": [
    "## PPDS Homework 3\n",
    "Jack (Quan Cheng) Xie | N14077607 | qcx201 <br>\n",
    "Professor Panos Ipeirotis <br>\n",
    "2 April 2018 <br>"
   ]
  },
  {
   "cell_type": "markdown",
   "metadata": {},
   "source": [
    "The webpage I am crawling is https://www.govtrack.us/misconduct, which compiles misconduct allegations against congress members from 1789 to the present. <br>\n",
    "\n",
    "Each webpage entry includes the congress member (name, disctrict, period in office), a link to the member's page, a paragraph summary of the misconduct, and a timeline of the investigation of allegations. <br>\n",
    "\n",
    "This is one of the data sources we are considering for our project on providing information about politicians."
   ]
  },
  {
   "cell_type": "code",
   "execution_count": 118,
   "metadata": {},
   "outputs": [],
   "source": [
    "import requests\n",
    "from lxml import html\n",
    "import pandas as pd\n",
    "import re\n",
    "\n",
    "url = \"https://www.govtrack.us/misconduct\"\n",
    "gt_url = 'https://www.govtrack.us'\n",
    "response = requests.get(url)\n",
    "doc = html.fromstring(response.text)"
   ]
  },
  {
   "cell_type": "code",
   "execution_count": 119,
   "metadata": {},
   "outputs": [
    {
     "name": "stdout",
     "output_type": "stream",
     "text": [
      "Congressional Misconduct Database\n",
      "https://www.govtrack.us/misconduct\n"
     ]
    }
   ],
   "source": [
    "print(doc.xpath('//h1')[0].text_content())\n",
    "print(url)"
   ]
  },
  {
   "cell_type": "markdown",
   "metadata": {},
   "source": [
    "### 1. Website Scraping Using Regex and Xpath"
   ]
  },
  {
   "cell_type": "code",
   "execution_count": 120,
   "metadata": {},
   "outputs": [],
   "source": [
    "# Using Regex to get entry class names\n",
    "html = requests.get(url).text\n",
    "\n",
    "regex = re.compile(r'class=\"misconduct-entry.*\"')\n",
    "matches = regex.finditer(html)\n",
    "calls = [m.group() for m in matches]\n",
    "\n",
    "entries = [doc.xpath('//div[@{ent}]'.format(\n",
    "    ent=call))[0] for call in calls]"
   ]
  },
  {
   "cell_type": "code",
   "execution_count": 121,
   "metadata": {},
   "outputs": [
    {
     "name": "stdout",
     "output_type": "stream",
     "text": [
      "Total calls: 383 \n",
      "Unique calls: 70\n"
     ]
    }
   ],
   "source": [
    "# Note calls are not unique\n",
    "print('Total calls:',len(calls),\n",
    "      '\\nUnique calls:',len(set(calls)))"
   ]
  },
  {
   "cell_type": "code",
   "execution_count": 127,
   "metadata": {},
   "outputs": [],
   "source": [
    "def parseEntryNode(entry):\n",
    "\n",
    "    member = entry.xpath('.//h3/a')[0].text_content().strip()\n",
    "\n",
    "    member_page = gt_url+entry.xpath('.//h3/a')[0].get('href')\n",
    "    \n",
    "    tags = [tag.text_content().strip()\n",
    "            for tag in entry.xpath('.//div[@class=\"tag-list\"]')[0]]\n",
    "\n",
    "    paragraph = entry.xpath('.//p')[0].text_content()\n",
    "\n",
    "    updates = [' '.join(update.text_content().split())\n",
    "               for update in entry.xpath('.//table')[0]]\n",
    "\n",
    "    update_links = [update.xpath('.//a')[0].get('href')\n",
    "                    if len(update.xpath('.//a')) > 0\n",
    "                    else None\n",
    "            for update in entry.xpath('.//table')[0]]\n",
    "    \n",
    "    result = {\n",
    "    'member' : member,\n",
    "    'member_page' : member_page,\n",
    "    'tags' : tags,\n",
    "    'paragraph' : paragraph,\n",
    "    'updates' : updates,\n",
    "    'update_links' : update_links\n",
    "    }\n",
    "    \n",
    "    return result"
   ]
  },
  {
   "cell_type": "code",
   "execution_count": null,
   "metadata": {},
   "outputs": [],
   "source": [
    "contents = doc.xpath('//div[@class=\"col-sm-8 col-sm-pull-4\"]')[0]\n",
    "data = [parseEntryNode(entry) for entry in entries]\n",
    "df = pd.DataFrame(data)"
   ]
  },
  {
   "cell_type": "code",
   "execution_count": 126,
   "metadata": {},
   "outputs": [
    {
     "name": "stdout",
     "output_type": "stream",
     "text": [
      "Duplicate Rows: 313\n"
     ]
    }
   ],
   "source": [
    "# Print duplicates\n",
    "print('Duplicate Rows:', len(df[df['paragraph'].duplicated()]))"
   ]
  },
  {
   "cell_type": "code",
   "execution_count": 12,
   "metadata": {},
   "outputs": [],
   "source": [
    "# Set index (counting from oldest) to use as primary key in SQL\n",
    "df['entry_index'] = len(df)-df.index"
   ]
  },
  {
   "cell_type": "code",
   "execution_count": 54,
   "metadata": {},
   "outputs": [
    {
     "data": {
      "text/html": [
       "<div>\n",
       "<style scoped>\n",
       "    .dataframe tbody tr th:only-of-type {\n",
       "        vertical-align: middle;\n",
       "    }\n",
       "\n",
       "    .dataframe tbody tr th {\n",
       "        vertical-align: top;\n",
       "    }\n",
       "\n",
       "    .dataframe thead th {\n",
       "        text-align: right;\n",
       "    }\n",
       "</style>\n",
       "<table border=\"1\" class=\"dataframe\">\n",
       "  <thead>\n",
       "    <tr style=\"text-align: right;\">\n",
       "      <th></th>\n",
       "      <th>member</th>\n",
       "      <th>member_page</th>\n",
       "      <th>paragraph</th>\n",
       "      <th>tags</th>\n",
       "      <th>update_links</th>\n",
       "      <th>updates</th>\n",
       "      <th>entry_index</th>\n",
       "      <th>member_name</th>\n",
       "      <th>district</th>\n",
       "      <th>party</th>\n",
       "    </tr>\n",
       "  </thead>\n",
       "  <tbody>\n",
       "    <tr>\n",
       "      <th>0</th>\n",
       "      <td>Rep. Paul Gosar [R-AZ4]</td>\n",
       "      <td>https://www.govtrack.us/congress/members/paul_...</td>\n",
       "      <td>In February 2018, a resolution to reprimand Re...</td>\n",
       "      <td>[ethics violation, resolved]</td>\n",
       "      <td>[https://twitter.com/RepGosar/status/958407946...</td>\n",
       "      <td>[Jan. 30, 2018 Asked Capitol Police to arrest ...</td>\n",
       "      <td>383</td>\n",
       "      <td>Rep. Paul Gosar</td>\n",
       "      <td>[R-AZ4]</td>\n",
       "      <td>Republican</td>\n",
       "    </tr>\n",
       "    <tr>\n",
       "      <th>1</th>\n",
       "      <td>Rep. Elizabeth Esty [D-CT5]</td>\n",
       "      <td>https://www.govtrack.us/congress/members/eliza...</td>\n",
       "      <td>In April of 2018, Rep. Esty announced she woul...</td>\n",
       "      <td>[sexual harassment &amp; abuse, unresolved]</td>\n",
       "      <td>[https://www.nytimes.com/2018/04/02/us/politic...</td>\n",
       "      <td>[Apr. 2, 2018 Esty announced she would not see...</td>\n",
       "      <td>382</td>\n",
       "      <td>Rep. Elizabeth Esty</td>\n",
       "      <td>[D-CT5]</td>\n",
       "      <td>Democrat</td>\n",
       "    </tr>\n",
       "    <tr>\n",
       "      <th>2</th>\n",
       "      <td>Rep. Devin Nunes [R-CA22]</td>\n",
       "      <td>https://www.govtrack.us/congress/members/devin...</td>\n",
       "      <td>In 2018, the Federal Elections Commission (FEC...</td>\n",
       "      <td>[campaign &amp; elections, unresolved]</td>\n",
       "      <td>[http://docquery.fec.gov/pdf/285/2018032003000...</td>\n",
       "      <td>[Mar. 20, 2018 Federal Elections Commission se...</td>\n",
       "      <td>381</td>\n",
       "      <td>Rep. Devin Nunes</td>\n",
       "      <td>[R-CA22]</td>\n",
       "      <td>Republican</td>\n",
       "    </tr>\n",
       "  </tbody>\n",
       "</table>\n",
       "</div>"
      ],
      "text/plain": [
       "                        member  \\\n",
       "0      Rep. Paul Gosar [R-AZ4]   \n",
       "1  Rep. Elizabeth Esty [D-CT5]   \n",
       "2    Rep. Devin Nunes [R-CA22]   \n",
       "\n",
       "                                         member_page  \\\n",
       "0  https://www.govtrack.us/congress/members/paul_...   \n",
       "1  https://www.govtrack.us/congress/members/eliza...   \n",
       "2  https://www.govtrack.us/congress/members/devin...   \n",
       "\n",
       "                                           paragraph  \\\n",
       "0  In February 2018, a resolution to reprimand Re...   \n",
       "1  In April of 2018, Rep. Esty announced she woul...   \n",
       "2  In 2018, the Federal Elections Commission (FEC...   \n",
       "\n",
       "                                      tags  \\\n",
       "0             [ethics violation, resolved]   \n",
       "1  [sexual harassment & abuse, unresolved]   \n",
       "2       [campaign & elections, unresolved]   \n",
       "\n",
       "                                        update_links  \\\n",
       "0  [https://twitter.com/RepGosar/status/958407946...   \n",
       "1  [https://www.nytimes.com/2018/04/02/us/politic...   \n",
       "2  [http://docquery.fec.gov/pdf/285/2018032003000...   \n",
       "\n",
       "                                             updates  entry_index  \\\n",
       "0  [Jan. 30, 2018 Asked Capitol Police to arrest ...          383   \n",
       "1  [Apr. 2, 2018 Esty announced she would not see...          382   \n",
       "2  [Mar. 20, 2018 Federal Elections Commission se...          381   \n",
       "\n",
       "           member_name  district       party  \n",
       "0      Rep. Paul Gosar   [R-AZ4]  Republican  \n",
       "1  Rep. Elizabeth Esty   [D-CT5]    Democrat  \n",
       "2     Rep. Devin Nunes  [R-CA22]  Republican  "
      ]
     },
     "execution_count": 54,
     "metadata": {},
     "output_type": "execute_result"
    }
   ],
   "source": [
    "# Preview the dataframe\n",
    "df.head(3)"
   ]
  },
  {
   "cell_type": "markdown",
   "metadata": {},
   "source": [
    "#### Scraping Alternative\n",
    "The parsing method using Regex above produces duplicates because of the html structure that has the same calls. Below is a method that of iterative indexing to get the data."
   ]
  },
  {
   "cell_type": "code",
   "execution_count": 128,
   "metadata": {},
   "outputs": [],
   "source": [
    "contents = doc.xpath('//div[@class=\"col-sm-8 col-sm-pull-4\"]')[0]\n",
    "# Data contants starts from index 1\n",
    "data = [parseEntryNode(contents[i]) for i in range(1,len(contents))] \n",
    "df = pd.DataFrame(data)"
   ]
  },
  {
   "cell_type": "code",
   "execution_count": 129,
   "metadata": {},
   "outputs": [
    {
     "name": "stdout",
     "output_type": "stream",
     "text": [
      "CPU times: user 3 µs, sys: 1e+03 ns, total: 4 µs\n",
      "Wall time: 7.15 µs\n"
     ]
    }
   ],
   "source": [
    "def get_bioguide(member_url):\n",
    "    '''returns bioguide given govtrack member page'''\n",
    "    member_html = requests.get(member_url).text\n",
    "    bioregex = re.compile(r'href=\"http://bioguide.congress.gov/.*\" ')\n",
    "    res = bioregex.findall(member_html)[0]\n",
    "    bioguide = res.replace(\n",
    "        'href=\"http://bioguide.congress.gov/scripts/biodisplay.pl?index=','')[:7]\n",
    "    return bioguide\n",
    "bioguide = [get_bioguide(url) for url in df['member_page']]\n",
    "%time"
   ]
  },
  {
   "cell_type": "code",
   "execution_count": 130,
   "metadata": {},
   "outputs": [],
   "source": [
    "df['bioguide'] = bioguide"
   ]
  },
  {
   "cell_type": "code",
   "execution_count": 131,
   "metadata": {},
   "outputs": [
    {
     "name": "stdout",
     "output_type": "stream",
     "text": [
      "Duplicate rows: 0\n"
     ]
    }
   ],
   "source": [
    "# Print duplicates\n",
    "print('Duplicate rows:', len(df[df['paragraph'].duplicated()]))"
   ]
  },
  {
   "cell_type": "code",
   "execution_count": 132,
   "metadata": {},
   "outputs": [],
   "source": [
    "# Reverse entry_index for primary key\n",
    "df['entry_index'] = len(df)-df.index"
   ]
  },
  {
   "cell_type": "code",
   "execution_count": 133,
   "metadata": {},
   "outputs": [
    {
     "data": {
      "text/html": [
       "<div>\n",
       "<style scoped>\n",
       "    .dataframe tbody tr th:only-of-type {\n",
       "        vertical-align: middle;\n",
       "    }\n",
       "\n",
       "    .dataframe tbody tr th {\n",
       "        vertical-align: top;\n",
       "    }\n",
       "\n",
       "    .dataframe thead th {\n",
       "        text-align: right;\n",
       "    }\n",
       "</style>\n",
       "<table border=\"1\" class=\"dataframe\">\n",
       "  <thead>\n",
       "    <tr style=\"text-align: right;\">\n",
       "      <th></th>\n",
       "      <th>member</th>\n",
       "      <th>member_page</th>\n",
       "      <th>paragraph</th>\n",
       "      <th>tags</th>\n",
       "      <th>update_links</th>\n",
       "      <th>updates</th>\n",
       "      <th>bioguide</th>\n",
       "      <th>entry_index</th>\n",
       "    </tr>\n",
       "  </thead>\n",
       "  <tbody>\n",
       "    <tr>\n",
       "      <th>0</th>\n",
       "      <td>Rep. Paul Gosar [R-AZ4]</td>\n",
       "      <td>https://www.govtrack.us/congress/members/paul_...</td>\n",
       "      <td>In February 2018, a resolution to reprimand Re...</td>\n",
       "      <td>[ethics violation, resolved]</td>\n",
       "      <td>[https://twitter.com/RepGosar/status/958407946...</td>\n",
       "      <td>[Jan. 30, 2018 Asked Capitol Police to arrest ...</td>\n",
       "      <td>G000565</td>\n",
       "      <td>383</td>\n",
       "    </tr>\n",
       "    <tr>\n",
       "      <th>1</th>\n",
       "      <td>Rep. Elizabeth Esty [D-CT5]</td>\n",
       "      <td>https://www.govtrack.us/congress/members/eliza...</td>\n",
       "      <td>In April of 2018, Rep. Esty announced she woul...</td>\n",
       "      <td>[sexual harassment &amp; abuse, unresolved]</td>\n",
       "      <td>[https://www.nytimes.com/2018/04/02/us/politic...</td>\n",
       "      <td>[Apr. 2, 2018 Esty announced she would not see...</td>\n",
       "      <td>E000293</td>\n",
       "      <td>382</td>\n",
       "    </tr>\n",
       "    <tr>\n",
       "      <th>2</th>\n",
       "      <td>Rep. Devin Nunes [R-CA22]</td>\n",
       "      <td>https://www.govtrack.us/congress/members/devin...</td>\n",
       "      <td>In 2018, the Federal Elections Commission (FEC...</td>\n",
       "      <td>[campaign &amp; elections, unresolved]</td>\n",
       "      <td>[http://docquery.fec.gov/pdf/285/2018032003000...</td>\n",
       "      <td>[Mar. 20, 2018 Federal Elections Commission se...</td>\n",
       "      <td>N000181</td>\n",
       "      <td>381</td>\n",
       "    </tr>\n",
       "  </tbody>\n",
       "</table>\n",
       "</div>"
      ],
      "text/plain": [
       "                        member  \\\n",
       "0      Rep. Paul Gosar [R-AZ4]   \n",
       "1  Rep. Elizabeth Esty [D-CT5]   \n",
       "2    Rep. Devin Nunes [R-CA22]   \n",
       "\n",
       "                                         member_page  \\\n",
       "0  https://www.govtrack.us/congress/members/paul_...   \n",
       "1  https://www.govtrack.us/congress/members/eliza...   \n",
       "2  https://www.govtrack.us/congress/members/devin...   \n",
       "\n",
       "                                           paragraph  \\\n",
       "0  In February 2018, a resolution to reprimand Re...   \n",
       "1  In April of 2018, Rep. Esty announced she woul...   \n",
       "2  In 2018, the Federal Elections Commission (FEC...   \n",
       "\n",
       "                                      tags  \\\n",
       "0             [ethics violation, resolved]   \n",
       "1  [sexual harassment & abuse, unresolved]   \n",
       "2       [campaign & elections, unresolved]   \n",
       "\n",
       "                                        update_links  \\\n",
       "0  [https://twitter.com/RepGosar/status/958407946...   \n",
       "1  [https://www.nytimes.com/2018/04/02/us/politic...   \n",
       "2  [http://docquery.fec.gov/pdf/285/2018032003000...   \n",
       "\n",
       "                                             updates bioguide  entry_index  \n",
       "0  [Jan. 30, 2018 Asked Capitol Police to arrest ...  G000565          383  \n",
       "1  [Apr. 2, 2018 Esty announced she would not see...  E000293          382  \n",
       "2  [Mar. 20, 2018 Federal Elections Commission se...  N000181          381  "
      ]
     },
     "execution_count": 133,
     "metadata": {},
     "output_type": "execute_result"
    }
   ],
   "source": [
    "# Preview the dataframe\n",
    "df.head(3)"
   ]
  },
  {
   "cell_type": "code",
   "execution_count": 134,
   "metadata": {},
   "outputs": [],
   "source": [
    "# Get names and districts of congress members using Regex\n",
    "# raw string for member column\n",
    "members_strings = df['member'].to_string()\n",
    "\n",
    "# The district regex is imperfect because of irregularities\n",
    "district_regex = re.compile(r'\\[+\\w-[\\w]*')\n",
    "district_matches = district_regex.finditer(members_strings)\n",
    "rg_district = [m.group()[1:] for m in district_matches]\n",
    "\n",
    "# Get names using regex\n",
    "names_regex = re.compile(r\"[A-z].*\\[\")\n",
    "names_matches = names_regex.finditer(members_strings)\n",
    "names = [m.group()[:-2] for m in names_matches]\n",
    "\n",
    "df['member_name'] = names\n",
    "\n",
    "# Get districts from names\n",
    "district = [df['member'][i].replace(\n",
    "    df['member_name'][i]+' ','')\n",
    "            for i in range(len(df))]\n",
    "\n",
    "df['district'] = district"
   ]
  },
  {
   "cell_type": "code",
   "execution_count": 135,
   "metadata": {},
   "outputs": [
    {
     "name": "stdout",
     "output_type": "stream",
     "text": [
      "regex results: 381 \n",
      "district list results: 383 \n",
      "df length: 383\n"
     ]
    }
   ],
   "source": [
    "# Because of irregularities in district format, regex misses some results\n",
    "print('regex results:',len(rg_district),\n",
    "      '\\ndistrict list results:',len(district),\n",
    "      '\\ndf length:',len(df))"
   ]
  },
  {
   "cell_type": "code",
   "execution_count": 136,
   "metadata": {},
   "outputs": [
    {
     "name": "stdout",
     "output_type": "stream",
     "text": [
      "{'A-', 'D-', 'J-', 'F-', 'R-', 'U-', 'R,', 'I-', 'W-'}\n"
     ]
    }
   ],
   "source": [
    "# Member parties are denoted by 1 letter abbreviations before the district\n",
    "print(set(df['district'].str[1:3]))"
   ]
  },
  {
   "cell_type": "code",
   "execution_count": 137,
   "metadata": {},
   "outputs": [],
   "source": [
    "# Add column with full party name\n",
    "party_dict = {'A':'A (Miscellaneous)','D':'Democrat','F':'Federalist',\n",
    "         'I':'Independent','J':'Jackson','R':'Republican',\n",
    "         'U' : 'Unconditional Unionist','W' :'Whig'}\n",
    "\n",
    "member_party = [party_dict[df['district'].iloc[i][1]] for i in range(len(df))]\n",
    "\n",
    "df['party'] = member_party"
   ]
  },
  {
   "cell_type": "code",
   "execution_count": 138,
   "metadata": {},
   "outputs": [
    {
     "data": {
      "text/html": [
       "<div>\n",
       "<style scoped>\n",
       "    .dataframe tbody tr th:only-of-type {\n",
       "        vertical-align: middle;\n",
       "    }\n",
       "\n",
       "    .dataframe tbody tr th {\n",
       "        vertical-align: top;\n",
       "    }\n",
       "\n",
       "    .dataframe thead th {\n",
       "        text-align: right;\n",
       "    }\n",
       "</style>\n",
       "<table border=\"1\" class=\"dataframe\">\n",
       "  <thead>\n",
       "    <tr style=\"text-align: right;\">\n",
       "      <th></th>\n",
       "      <th>member</th>\n",
       "      <th>member_name</th>\n",
       "      <th>district</th>\n",
       "      <th>party</th>\n",
       "    </tr>\n",
       "  </thead>\n",
       "  <tbody>\n",
       "    <tr>\n",
       "      <th>0</th>\n",
       "      <td>Rep. Paul Gosar [R-AZ4]</td>\n",
       "      <td>Rep. Paul Gosar</td>\n",
       "      <td>[R-AZ4]</td>\n",
       "      <td>Republican</td>\n",
       "    </tr>\n",
       "    <tr>\n",
       "      <th>1</th>\n",
       "      <td>Rep. Elizabeth Esty [D-CT5]</td>\n",
       "      <td>Rep. Elizabeth Esty</td>\n",
       "      <td>[D-CT5]</td>\n",
       "      <td>Democrat</td>\n",
       "    </tr>\n",
       "    <tr>\n",
       "      <th>2</th>\n",
       "      <td>Rep. Devin Nunes [R-CA22]</td>\n",
       "      <td>Rep. Devin Nunes</td>\n",
       "      <td>[R-CA22]</td>\n",
       "      <td>Republican</td>\n",
       "    </tr>\n",
       "    <tr>\n",
       "      <th>3</th>\n",
       "      <td>Rep. Robert Brady [D-PA1]</td>\n",
       "      <td>Rep. Robert Brady</td>\n",
       "      <td>[D-PA1]</td>\n",
       "      <td>Democrat</td>\n",
       "    </tr>\n",
       "    <tr>\n",
       "      <th>4</th>\n",
       "      <td>Rep. Patrick Meehan [R-PA7]</td>\n",
       "      <td>Rep. Patrick Meehan</td>\n",
       "      <td>[R-PA7]</td>\n",
       "      <td>Republican</td>\n",
       "    </tr>\n",
       "  </tbody>\n",
       "</table>\n",
       "</div>"
      ],
      "text/plain": [
       "                        member          member_name  district       party\n",
       "0      Rep. Paul Gosar [R-AZ4]      Rep. Paul Gosar   [R-AZ4]  Republican\n",
       "1  Rep. Elizabeth Esty [D-CT5]  Rep. Elizabeth Esty   [D-CT5]    Democrat\n",
       "2    Rep. Devin Nunes [R-CA22]     Rep. Devin Nunes  [R-CA22]  Republican\n",
       "3    Rep. Robert Brady [D-PA1]    Rep. Robert Brady   [D-PA1]    Democrat\n",
       "4  Rep. Patrick Meehan [R-PA7]  Rep. Patrick Meehan   [R-PA7]  Republican"
      ]
     },
     "execution_count": 138,
     "metadata": {},
     "output_type": "execute_result"
    }
   ],
   "source": [
    "# Let's see the result of our data cleaning\n",
    "df[['member','member_name','district','party']].head()"
   ]
  },
  {
   "cell_type": "code",
   "execution_count": 163,
   "metadata": {},
   "outputs": [
    {
     "data": {
      "text/html": [
       "<div>\n",
       "<style scoped>\n",
       "    .dataframe tbody tr th:only-of-type {\n",
       "        vertical-align: middle;\n",
       "    }\n",
       "\n",
       "    .dataframe tbody tr th {\n",
       "        vertical-align: top;\n",
       "    }\n",
       "\n",
       "    .dataframe thead th {\n",
       "        text-align: right;\n",
       "    }\n",
       "</style>\n",
       "<table border=\"1\" class=\"dataframe\">\n",
       "  <thead>\n",
       "    <tr style=\"text-align: right;\">\n",
       "      <th></th>\n",
       "      <th>member</th>\n",
       "      <th>member_page</th>\n",
       "      <th>paragraph</th>\n",
       "      <th>tags</th>\n",
       "      <th>update_links</th>\n",
       "      <th>updates</th>\n",
       "      <th>bioguide</th>\n",
       "      <th>entry_index</th>\n",
       "      <th>member_name</th>\n",
       "      <th>district</th>\n",
       "      <th>party</th>\n",
       "    </tr>\n",
       "  </thead>\n",
       "  <tbody>\n",
       "    <tr>\n",
       "      <th>0</th>\n",
       "      <td>Rep. Paul Gosar [R-AZ4]</td>\n",
       "      <td>https://www.govtrack.us/congress/members/paul_...</td>\n",
       "      <td>In February 2018, a resolution to reprimand Re...</td>\n",
       "      <td>[ethics violation, resolved]</td>\n",
       "      <td>[https://twitter.com/RepGosar/status/958407946...</td>\n",
       "      <td>[Jan. 30, 2018 Asked Capitol Police to arrest ...</td>\n",
       "      <td>G000565</td>\n",
       "      <td>383</td>\n",
       "      <td>Rep. Paul Gosar</td>\n",
       "      <td>[R-AZ4]</td>\n",
       "      <td>Republican</td>\n",
       "    </tr>\n",
       "    <tr>\n",
       "      <th>1</th>\n",
       "      <td>Rep. Elizabeth Esty [D-CT5]</td>\n",
       "      <td>https://www.govtrack.us/congress/members/eliza...</td>\n",
       "      <td>In April of 2018, Rep. Esty announced she woul...</td>\n",
       "      <td>[sexual harassment &amp; abuse, unresolved]</td>\n",
       "      <td>[https://www.nytimes.com/2018/04/02/us/politic...</td>\n",
       "      <td>[Apr. 2, 2018 Esty announced she would not see...</td>\n",
       "      <td>E000293</td>\n",
       "      <td>382</td>\n",
       "      <td>Rep. Elizabeth Esty</td>\n",
       "      <td>[D-CT5]</td>\n",
       "      <td>Democrat</td>\n",
       "    </tr>\n",
       "    <tr>\n",
       "      <th>2</th>\n",
       "      <td>Rep. Devin Nunes [R-CA22]</td>\n",
       "      <td>https://www.govtrack.us/congress/members/devin...</td>\n",
       "      <td>In 2018, the Federal Elections Commission (FEC...</td>\n",
       "      <td>[campaign &amp; elections, unresolved]</td>\n",
       "      <td>[http://docquery.fec.gov/pdf/285/2018032003000...</td>\n",
       "      <td>[Mar. 20, 2018 Federal Elections Commission se...</td>\n",
       "      <td>N000181</td>\n",
       "      <td>381</td>\n",
       "      <td>Rep. Devin Nunes</td>\n",
       "      <td>[R-CA22]</td>\n",
       "      <td>Republican</td>\n",
       "    </tr>\n",
       "    <tr>\n",
       "      <th>3</th>\n",
       "      <td>Rep. Robert Brady [D-PA1]</td>\n",
       "      <td>https://www.govtrack.us/congress/members/rober...</td>\n",
       "      <td>Brady faced an allegation of leading a crimina...</td>\n",
       "      <td>[bribery &amp; corruption, campaign &amp; elections, u...</td>\n",
       "      <td>[http://www.philly.com/philly/news/pennsylvani...</td>\n",
       "      <td>[Nov. 1, 2017 Federal Bureau of Investigation ...</td>\n",
       "      <td>B001227</td>\n",
       "      <td>380</td>\n",
       "      <td>Rep. Robert Brady</td>\n",
       "      <td>[D-PA1]</td>\n",
       "      <td>Democrat</td>\n",
       "    </tr>\n",
       "    <tr>\n",
       "      <th>4</th>\n",
       "      <td>Rep. Patrick Meehan [R-PA7]</td>\n",
       "      <td>https://www.govtrack.us/congress/members/patri...</td>\n",
       "      <td>While serving on the House Committee on Ethics...</td>\n",
       "      <td>[sexual harassment &amp; abuse, unresolved]</td>\n",
       "      <td>[https://www.nytimes.com/2018/01/20/us/politic...</td>\n",
       "      <td>[Jan. 20, 2018 House of Representatives remove...</td>\n",
       "      <td>M001181</td>\n",
       "      <td>379</td>\n",
       "      <td>Rep. Patrick Meehan</td>\n",
       "      <td>[R-PA7]</td>\n",
       "      <td>Republican</td>\n",
       "    </tr>\n",
       "  </tbody>\n",
       "</table>\n",
       "</div>"
      ],
      "text/plain": [
       "                        member  \\\n",
       "0      Rep. Paul Gosar [R-AZ4]   \n",
       "1  Rep. Elizabeth Esty [D-CT5]   \n",
       "2    Rep. Devin Nunes [R-CA22]   \n",
       "3    Rep. Robert Brady [D-PA1]   \n",
       "4  Rep. Patrick Meehan [R-PA7]   \n",
       "\n",
       "                                         member_page  \\\n",
       "0  https://www.govtrack.us/congress/members/paul_...   \n",
       "1  https://www.govtrack.us/congress/members/eliza...   \n",
       "2  https://www.govtrack.us/congress/members/devin...   \n",
       "3  https://www.govtrack.us/congress/members/rober...   \n",
       "4  https://www.govtrack.us/congress/members/patri...   \n",
       "\n",
       "                                           paragraph  \\\n",
       "0  In February 2018, a resolution to reprimand Re...   \n",
       "1  In April of 2018, Rep. Esty announced she woul...   \n",
       "2  In 2018, the Federal Elections Commission (FEC...   \n",
       "3  Brady faced an allegation of leading a crimina...   \n",
       "4  While serving on the House Committee on Ethics...   \n",
       "\n",
       "                                                tags  \\\n",
       "0                       [ethics violation, resolved]   \n",
       "1            [sexual harassment & abuse, unresolved]   \n",
       "2                 [campaign & elections, unresolved]   \n",
       "3  [bribery & corruption, campaign & elections, u...   \n",
       "4            [sexual harassment & abuse, unresolved]   \n",
       "\n",
       "                                        update_links  \\\n",
       "0  [https://twitter.com/RepGosar/status/958407946...   \n",
       "1  [https://www.nytimes.com/2018/04/02/us/politic...   \n",
       "2  [http://docquery.fec.gov/pdf/285/2018032003000...   \n",
       "3  [http://www.philly.com/philly/news/pennsylvani...   \n",
       "4  [https://www.nytimes.com/2018/01/20/us/politic...   \n",
       "\n",
       "                                             updates bioguide  entry_index  \\\n",
       "0  [Jan. 30, 2018 Asked Capitol Police to arrest ...  G000565          383   \n",
       "1  [Apr. 2, 2018 Esty announced she would not see...  E000293          382   \n",
       "2  [Mar. 20, 2018 Federal Elections Commission se...  N000181          381   \n",
       "3  [Nov. 1, 2017 Federal Bureau of Investigation ...  B001227          380   \n",
       "4  [Jan. 20, 2018 House of Representatives remove...  M001181          379   \n",
       "\n",
       "           member_name  district       party  \n",
       "0      Rep. Paul Gosar   [R-AZ4]  Republican  \n",
       "1  Rep. Elizabeth Esty   [D-CT5]    Democrat  \n",
       "2     Rep. Devin Nunes  [R-CA22]  Republican  \n",
       "3    Rep. Robert Brady   [D-PA1]    Democrat  \n",
       "4  Rep. Patrick Meehan   [R-PA7]  Republican  "
      ]
     },
     "execution_count": 163,
     "metadata": {},
     "output_type": "execute_result"
    }
   ],
   "source": [
    "df.head()"
   ]
  },
  {
   "cell_type": "markdown",
   "metadata": {},
   "source": [
    "### Creating SQL Database and Tables"
   ]
  },
  {
   "cell_type": "code",
   "execution_count": 139,
   "metadata": {},
   "outputs": [],
   "source": [
    "from sqlalchemy import create_engine\n",
    "from IPython.display import clear_output as clear\n",
    "\n",
    "conn_string = 'mysql://{user}:{password}@{host}:{port}/?charset=utf8'.format(\n",
    "    user     = 'root', \n",
    "    password = input('password'), \n",
    "    host     = '127.0.0.01', \n",
    "    port     = 3306, \n",
    "    encoding = 'utf-8'\n",
    ")\n",
    "\n",
    "clear()\n",
    "\n",
    "pw = 'dwdstudent2015'\n",
    "engine = create_engine(conn_string)"
   ]
  },
  {
   "cell_type": "code",
   "execution_count": 140,
   "metadata": {},
   "outputs": [
    {
     "name": "stderr",
     "output_type": "stream",
     "text": [
      "/anaconda/lib/python3.6/site-packages/sqlalchemy/engine/default.py:507: Warning: (1007, \"Can't create database 'congressional_misconduct'; database exists\")\n",
      "  cursor.execute(statement, parameters)\n"
     ]
    },
    {
     "data": {
      "text/plain": [
       "<sqlalchemy.engine.result.ResultProxy at 0x11482fe48>"
      ]
     },
     "execution_count": 140,
     "metadata": {},
     "output_type": "execute_result"
    }
   ],
   "source": [
    "engine.execute('CREATE DATABASE IF NOT EXISTS congressional_misconduct')"
   ]
  },
  {
   "cell_type": "code",
   "execution_count": 141,
   "metadata": {},
   "outputs": [
    {
     "data": {
      "text/html": [
       "<div>\n",
       "<style scoped>\n",
       "    .dataframe tbody tr th:only-of-type {\n",
       "        vertical-align: middle;\n",
       "    }\n",
       "\n",
       "    .dataframe tbody tr th {\n",
       "        vertical-align: top;\n",
       "    }\n",
       "\n",
       "    .dataframe thead th {\n",
       "        text-align: right;\n",
       "    }\n",
       "</style>\n",
       "<table border=\"1\" class=\"dataframe\">\n",
       "  <thead>\n",
       "    <tr style=\"text-align: right;\">\n",
       "      <th></th>\n",
       "      <th>Database</th>\n",
       "    </tr>\n",
       "  </thead>\n",
       "  <tbody>\n",
       "    <tr>\n",
       "      <th>0</th>\n",
       "      <td>information_schema</td>\n",
       "    </tr>\n",
       "    <tr>\n",
       "      <th>1</th>\n",
       "      <td>congressional_misconduct</td>\n",
       "    </tr>\n",
       "    <tr>\n",
       "      <th>2</th>\n",
       "      <td>mysql</td>\n",
       "    </tr>\n",
       "    <tr>\n",
       "      <th>3</th>\n",
       "      <td>performance_schema</td>\n",
       "    </tr>\n",
       "    <tr>\n",
       "      <th>4</th>\n",
       "      <td>portfolio_analysis</td>\n",
       "    </tr>\n",
       "    <tr>\n",
       "      <th>5</th>\n",
       "      <td>sys</td>\n",
       "    </tr>\n",
       "  </tbody>\n",
       "</table>\n",
       "</div>"
      ],
      "text/plain": [
       "                   Database\n",
       "0        information_schema\n",
       "1  congressional_misconduct\n",
       "2                     mysql\n",
       "3        performance_schema\n",
       "4        portfolio_analysis\n",
       "5                       sys"
      ]
     },
     "execution_count": 141,
     "metadata": {},
     "output_type": "execute_result"
    }
   ],
   "source": [
    "engine.execute('USE congressional_misconduct')\n",
    "pd.read_sql('SHOW Databases',con=engine)"
   ]
  },
  {
   "cell_type": "code",
   "execution_count": 142,
   "metadata": {},
   "outputs": [
    {
     "data": {
      "text/plain": [
       "<sqlalchemy.engine.result.ResultProxy at 0x113936e10>"
      ]
     },
     "execution_count": 142,
     "metadata": {},
     "output_type": "execute_result"
    }
   ],
   "source": [
    "engine.execute('USE congressional_misconduct')"
   ]
  },
  {
   "cell_type": "code",
   "execution_count": 164,
   "metadata": {},
   "outputs": [
    {
     "data": {
      "text/plain": [
       "<sqlalchemy.engine.result.ResultProxy at 0x115d4f6a0>"
      ]
     },
     "execution_count": 164,
     "metadata": {},
     "output_type": "execute_result"
    }
   ],
   "source": [
    "# Drop all existing tables\n",
    "db_tables = pd.read_sql('SHOW TABLES',con=engine).iloc[:,0]\n",
    "\n",
    "for t in db_tables:\n",
    "    if t != 'misconduct_entries':\n",
    "        engine.execute('DROP TABLE IF EXISTS {table}'.format(table = t))\n",
    "# Drop table with foreign key reference last        \n",
    "engine.execute('DROP TABLE IF EXISTS {table}'.format(table = 'misconduct_entries'))"
   ]
  },
  {
   "cell_type": "code",
   "execution_count": 165,
   "metadata": {},
   "outputs": [
    {
     "data": {
      "text/plain": [
       "0    misconduct_entries\n",
       "1       misconduct_tags\n",
       "2       timeline_update\n",
       "Name: Tables_in_congressional_misconduct, dtype: object"
      ]
     },
     "execution_count": 165,
     "metadata": {},
     "output_type": "execute_result"
    }
   ],
   "source": [
    "db_tables"
   ]
  },
  {
   "cell_type": "code",
   "execution_count": 166,
   "metadata": {},
   "outputs": [
    {
     "data": {
      "text/plain": [
       "<sqlalchemy.engine.result.ResultProxy at 0x115dcef98>"
      ]
     },
     "execution_count": 166,
     "metadata": {},
     "output_type": "execute_result"
    }
   ],
   "source": [
    "df[['entry_index','member_name','bioguide','party','district',\n",
    "    'member','member_page','paragraph']].to_sql(name='misconduct_entries',\n",
    "                                                 con=engine,\n",
    "                                                 if_exists='replace',\n",
    "                                                 index=False)\n",
    "\n",
    "add_key_query = 'ALTER TABLE misconduct_entries ADD PRIMARY KEY(entry_index)'\n",
    "engine.execute(add_key_query)"
   ]
  },
  {
   "cell_type": "code",
   "execution_count": 167,
   "metadata": {},
   "outputs": [],
   "source": [
    "# Create database for misconduct tags\n",
    "\n",
    "# Create dataframe from iterated list\n",
    "index_list = list()\n",
    "tags_list = list()\n",
    "\n",
    "for i in range(len(df)):\n",
    "    for tag in df.iloc[i]['tags']:\n",
    "        index_list.append(df.iloc[i]['entry_index']) # Use entry_index as foreign key\n",
    "        tags_list.append(tag)\n",
    "        \n",
    "tags_df = pd.DataFrame({\n",
    "    'entry_index' : index_list,\n",
    "    'tags' : tags_list\n",
    "})\n",
    "\n",
    "# Create database\n",
    "tags_df.to_sql(name='misconduct_tags',\n",
    "                 con=engine,\n",
    "                 if_exists='replace',\n",
    "                 index=False)"
   ]
  },
  {
   "cell_type": "code",
   "execution_count": 168,
   "metadata": {},
   "outputs": [],
   "source": [
    "# Create database for investigation timeline updates\n",
    "\n",
    "# Create dataframe iterated list\n",
    "index_list = list()\n",
    "update_list = list()\n",
    "link_list = list()\n",
    "\n",
    "for i in range(len(df)):\n",
    "    for update in df.iloc[i]['updates']:\n",
    "        index_list.append(df.iloc[i]['entry_index'])\n",
    "        update_list.append(update)\n",
    "    for lnk in df.iloc[i]['update_links']:\n",
    "        link_list.append(lnk)\n",
    "                          \n",
    "updates_df = pd.DataFrame({\n",
    "    'entry_index' : index_list,\n",
    "    'updates' : update_list,\n",
    "    'update_links' : link_list\n",
    "})\n",
    "\n",
    "# Create database\n",
    "updates_df.to_sql(name='timeline_update',\n",
    "                 con=engine,\n",
    "                 if_exists='replace',\n",
    "                 index=False)"
   ]
  },
  {
   "cell_type": "code",
   "execution_count": 169,
   "metadata": {},
   "outputs": [],
   "source": [
    "# Add foreign keys\n",
    "db_tables = pd.read_sql('SHOW TABLES',con=engine).iloc[:,0]\n",
    "\n",
    "for t in db_tables:\n",
    "    if t != 'misconduct_entries':\n",
    "        add_key_query = '''\n",
    "        ALTER TABLE {table}\n",
    "        ADD FOREIGN KEY(entry_index)\n",
    "        REFERENCES misconduct_entries(entry_index)'''.format(table=t)\n",
    "\n",
    "        engine.execute(add_key_query)"
   ]
  },
  {
   "cell_type": "code",
   "execution_count": 170,
   "metadata": {},
   "outputs": [
    {
     "data": {
      "text/html": [
       "<div>\n",
       "<style scoped>\n",
       "    .dataframe tbody tr th:only-of-type {\n",
       "        vertical-align: middle;\n",
       "    }\n",
       "\n",
       "    .dataframe tbody tr th {\n",
       "        vertical-align: top;\n",
       "    }\n",
       "\n",
       "    .dataframe thead th {\n",
       "        text-align: right;\n",
       "    }\n",
       "</style>\n",
       "<table border=\"1\" class=\"dataframe\">\n",
       "  <thead>\n",
       "    <tr style=\"text-align: right;\">\n",
       "      <th></th>\n",
       "      <th>Tables_in_congressional_misconduct</th>\n",
       "    </tr>\n",
       "  </thead>\n",
       "  <tbody>\n",
       "    <tr>\n",
       "      <th>0</th>\n",
       "      <td>misconduct_entries</td>\n",
       "    </tr>\n",
       "    <tr>\n",
       "      <th>1</th>\n",
       "      <td>misconduct_tags</td>\n",
       "    </tr>\n",
       "    <tr>\n",
       "      <th>2</th>\n",
       "      <td>timeline_update</td>\n",
       "    </tr>\n",
       "  </tbody>\n",
       "</table>\n",
       "</div>"
      ],
      "text/plain": [
       "  Tables_in_congressional_misconduct\n",
       "0                 misconduct_entries\n",
       "1                    misconduct_tags\n",
       "2                    timeline_update"
      ]
     },
     "execution_count": 170,
     "metadata": {},
     "output_type": "execute_result"
    }
   ],
   "source": [
    "pd.read_sql('SHOW Tables',con=engine)"
   ]
  },
  {
   "cell_type": "code",
   "execution_count": 171,
   "metadata": {},
   "outputs": [],
   "source": [
    "query = 'SELECT * FROM misconduct_entries'\n",
    "entries_sql = pd.read_sql(query,con=engine)"
   ]
  },
  {
   "cell_type": "code",
   "execution_count": 172,
   "metadata": {},
   "outputs": [],
   "source": [
    "query = '''SELECT * FROM misconduct_tags'''\n",
    "tags_sql = pd.read_sql(query,con=engine)"
   ]
  },
  {
   "cell_type": "code",
   "execution_count": 173,
   "metadata": {},
   "outputs": [],
   "source": [
    "query = '''SELECT * FROM timeline_update'''\n",
    "timeline_sql = pd.read_sql(query,con=engine)"
   ]
  },
  {
   "cell_type": "code",
   "execution_count": 177,
   "metadata": {},
   "outputs": [
    {
     "data": {
      "text/html": [
       "<div>\n",
       "<style scoped>\n",
       "    .dataframe tbody tr th:only-of-type {\n",
       "        vertical-align: middle;\n",
       "    }\n",
       "\n",
       "    .dataframe tbody tr th {\n",
       "        vertical-align: top;\n",
       "    }\n",
       "\n",
       "    .dataframe thead th {\n",
       "        text-align: right;\n",
       "    }\n",
       "</style>\n",
       "<table border=\"1\" class=\"dataframe\">\n",
       "  <thead>\n",
       "    <tr style=\"text-align: right;\">\n",
       "      <th></th>\n",
       "      <th>entry_index</th>\n",
       "      <th>member_name</th>\n",
       "      <th>bioguide</th>\n",
       "      <th>party</th>\n",
       "      <th>district</th>\n",
       "      <th>member</th>\n",
       "      <th>member_page</th>\n",
       "      <th>paragraph</th>\n",
       "    </tr>\n",
       "  </thead>\n",
       "  <tbody>\n",
       "    <tr>\n",
       "      <th>378</th>\n",
       "      <td>379</td>\n",
       "      <td>Rep. Patrick Meehan</td>\n",
       "      <td>M001181</td>\n",
       "      <td>Republican</td>\n",
       "      <td>[R-PA7]</td>\n",
       "      <td>Rep. Patrick Meehan [R-PA7]</td>\n",
       "      <td>https://www.govtrack.us/congress/members/patri...</td>\n",
       "      <td>While serving on the House Committee on Ethics...</td>\n",
       "    </tr>\n",
       "    <tr>\n",
       "      <th>379</th>\n",
       "      <td>380</td>\n",
       "      <td>Rep. Robert Brady</td>\n",
       "      <td>B001227</td>\n",
       "      <td>Democrat</td>\n",
       "      <td>[D-PA1]</td>\n",
       "      <td>Rep. Robert Brady [D-PA1]</td>\n",
       "      <td>https://www.govtrack.us/congress/members/rober...</td>\n",
       "      <td>Brady faced an allegation of leading a crimina...</td>\n",
       "    </tr>\n",
       "    <tr>\n",
       "      <th>380</th>\n",
       "      <td>381</td>\n",
       "      <td>Rep. Devin Nunes</td>\n",
       "      <td>N000181</td>\n",
       "      <td>Republican</td>\n",
       "      <td>[R-CA22]</td>\n",
       "      <td>Rep. Devin Nunes [R-CA22]</td>\n",
       "      <td>https://www.govtrack.us/congress/members/devin...</td>\n",
       "      <td>In 2018, the Federal Elections Commission (FEC...</td>\n",
       "    </tr>\n",
       "    <tr>\n",
       "      <th>381</th>\n",
       "      <td>382</td>\n",
       "      <td>Rep. Elizabeth Esty</td>\n",
       "      <td>E000293</td>\n",
       "      <td>Democrat</td>\n",
       "      <td>[D-CT5]</td>\n",
       "      <td>Rep. Elizabeth Esty [D-CT5]</td>\n",
       "      <td>https://www.govtrack.us/congress/members/eliza...</td>\n",
       "      <td>In April of 2018, Rep. Esty announced she woul...</td>\n",
       "    </tr>\n",
       "    <tr>\n",
       "      <th>382</th>\n",
       "      <td>383</td>\n",
       "      <td>Rep. Paul Gosar</td>\n",
       "      <td>G000565</td>\n",
       "      <td>Republican</td>\n",
       "      <td>[R-AZ4]</td>\n",
       "      <td>Rep. Paul Gosar [R-AZ4]</td>\n",
       "      <td>https://www.govtrack.us/congress/members/paul_...</td>\n",
       "      <td>In February 2018, a resolution to reprimand Re...</td>\n",
       "    </tr>\n",
       "  </tbody>\n",
       "</table>\n",
       "</div>"
      ],
      "text/plain": [
       "     entry_index          member_name bioguide       party  district  \\\n",
       "378          379  Rep. Patrick Meehan  M001181  Republican   [R-PA7]   \n",
       "379          380    Rep. Robert Brady  B001227    Democrat   [D-PA1]   \n",
       "380          381     Rep. Devin Nunes  N000181  Republican  [R-CA22]   \n",
       "381          382  Rep. Elizabeth Esty  E000293    Democrat   [D-CT5]   \n",
       "382          383      Rep. Paul Gosar  G000565  Republican   [R-AZ4]   \n",
       "\n",
       "                          member  \\\n",
       "378  Rep. Patrick Meehan [R-PA7]   \n",
       "379    Rep. Robert Brady [D-PA1]   \n",
       "380    Rep. Devin Nunes [R-CA22]   \n",
       "381  Rep. Elizabeth Esty [D-CT5]   \n",
       "382      Rep. Paul Gosar [R-AZ4]   \n",
       "\n",
       "                                           member_page  \\\n",
       "378  https://www.govtrack.us/congress/members/patri...   \n",
       "379  https://www.govtrack.us/congress/members/rober...   \n",
       "380  https://www.govtrack.us/congress/members/devin...   \n",
       "381  https://www.govtrack.us/congress/members/eliza...   \n",
       "382  https://www.govtrack.us/congress/members/paul_...   \n",
       "\n",
       "                                             paragraph  \n",
       "378  While serving on the House Committee on Ethics...  \n",
       "379  Brady faced an allegation of leading a crimina...  \n",
       "380  In 2018, the Federal Elections Commission (FEC...  \n",
       "381  In April of 2018, Rep. Esty announced she woul...  \n",
       "382  In February 2018, a resolution to reprimand Re...  "
      ]
     },
     "execution_count": 177,
     "metadata": {},
     "output_type": "execute_result"
    }
   ],
   "source": [
    "entries_sql.tail()"
   ]
  },
  {
   "cell_type": "code",
   "execution_count": 175,
   "metadata": {},
   "outputs": [
    {
     "data": {
      "text/html": [
       "<div>\n",
       "<style scoped>\n",
       "    .dataframe tbody tr th:only-of-type {\n",
       "        vertical-align: middle;\n",
       "    }\n",
       "\n",
       "    .dataframe tbody tr th {\n",
       "        vertical-align: top;\n",
       "    }\n",
       "\n",
       "    .dataframe thead th {\n",
       "        text-align: right;\n",
       "    }\n",
       "</style>\n",
       "<table border=\"1\" class=\"dataframe\">\n",
       "  <thead>\n",
       "    <tr style=\"text-align: right;\">\n",
       "      <th></th>\n",
       "      <th>entry_index</th>\n",
       "      <th>tags</th>\n",
       "    </tr>\n",
       "  </thead>\n",
       "  <tbody>\n",
       "    <tr>\n",
       "      <th>0</th>\n",
       "      <td>383</td>\n",
       "      <td>ethics violation</td>\n",
       "    </tr>\n",
       "    <tr>\n",
       "      <th>1</th>\n",
       "      <td>383</td>\n",
       "      <td>resolved</td>\n",
       "    </tr>\n",
       "    <tr>\n",
       "      <th>2</th>\n",
       "      <td>382</td>\n",
       "      <td>sexual harassment &amp; abuse</td>\n",
       "    </tr>\n",
       "    <tr>\n",
       "      <th>3</th>\n",
       "      <td>382</td>\n",
       "      <td>unresolved</td>\n",
       "    </tr>\n",
       "    <tr>\n",
       "      <th>4</th>\n",
       "      <td>381</td>\n",
       "      <td>campaign &amp; elections</td>\n",
       "    </tr>\n",
       "  </tbody>\n",
       "</table>\n",
       "</div>"
      ],
      "text/plain": [
       "   entry_index                       tags\n",
       "0          383           ethics violation\n",
       "1          383                   resolved\n",
       "2          382  sexual harassment & abuse\n",
       "3          382                 unresolved\n",
       "4          381       campaign & elections"
      ]
     },
     "metadata": {},
     "output_type": "display_data"
    },
    {
     "data": {
      "text/html": [
       "<div>\n",
       "<style scoped>\n",
       "    .dataframe tbody tr th:only-of-type {\n",
       "        vertical-align: middle;\n",
       "    }\n",
       "\n",
       "    .dataframe tbody tr th {\n",
       "        vertical-align: top;\n",
       "    }\n",
       "\n",
       "    .dataframe thead th {\n",
       "        text-align: right;\n",
       "    }\n",
       "</style>\n",
       "<table border=\"1\" class=\"dataframe\">\n",
       "  <thead>\n",
       "    <tr style=\"text-align: right;\">\n",
       "      <th></th>\n",
       "      <th>entry_index</th>\n",
       "      <th>tags</th>\n",
       "    </tr>\n",
       "  </thead>\n",
       "  <tbody>\n",
       "    <tr>\n",
       "      <th>1007</th>\n",
       "      <td>3</td>\n",
       "      <td>resolved</td>\n",
       "    </tr>\n",
       "    <tr>\n",
       "      <th>1008</th>\n",
       "      <td>2</td>\n",
       "      <td>ethics violation</td>\n",
       "    </tr>\n",
       "    <tr>\n",
       "      <th>1009</th>\n",
       "      <td>2</td>\n",
       "      <td>resolved</td>\n",
       "    </tr>\n",
       "    <tr>\n",
       "      <th>1010</th>\n",
       "      <td>1</td>\n",
       "      <td>ethics violation</td>\n",
       "    </tr>\n",
       "    <tr>\n",
       "      <th>1011</th>\n",
       "      <td>1</td>\n",
       "      <td>resolved</td>\n",
       "    </tr>\n",
       "  </tbody>\n",
       "</table>\n",
       "</div>"
      ],
      "text/plain": [
       "      entry_index              tags\n",
       "1007            3          resolved\n",
       "1008            2  ethics violation\n",
       "1009            2          resolved\n",
       "1010            1  ethics violation\n",
       "1011            1          resolved"
      ]
     },
     "metadata": {},
     "output_type": "display_data"
    }
   ],
   "source": [
    "display(tags_sql.head())\n",
    "display(tags_sql.tail())"
   ]
  },
  {
   "cell_type": "code",
   "execution_count": 176,
   "metadata": {},
   "outputs": [
    {
     "data": {
      "text/html": [
       "<div>\n",
       "<style scoped>\n",
       "    .dataframe tbody tr th:only-of-type {\n",
       "        vertical-align: middle;\n",
       "    }\n",
       "\n",
       "    .dataframe tbody tr th {\n",
       "        vertical-align: top;\n",
       "    }\n",
       "\n",
       "    .dataframe thead th {\n",
       "        text-align: right;\n",
       "    }\n",
       "</style>\n",
       "<table border=\"1\" class=\"dataframe\">\n",
       "  <thead>\n",
       "    <tr style=\"text-align: right;\">\n",
       "      <th></th>\n",
       "      <th>entry_index</th>\n",
       "      <th>update_links</th>\n",
       "      <th>updates</th>\n",
       "    </tr>\n",
       "  </thead>\n",
       "  <tbody>\n",
       "    <tr>\n",
       "      <th>0</th>\n",
       "      <td>383</td>\n",
       "      <td>https://twitter.com/RepGosar/status/9584079460...</td>\n",
       "      <td>Jan. 30, 2018 Asked Capitol Police to arrest D...</td>\n",
       "    </tr>\n",
       "    <tr>\n",
       "      <th>1</th>\n",
       "      <td>383</td>\n",
       "      <td>https://www.govtrack.us/congress/votes/115-201...</td>\n",
       "      <td>Feb. 6, 2018 House of Representatives tabled r...</td>\n",
       "    </tr>\n",
       "    <tr>\n",
       "      <th>2</th>\n",
       "      <td>382</td>\n",
       "      <td>https://www.nytimes.com/2018/04/02/us/politics...</td>\n",
       "      <td>Apr. 2, 2018 Esty announced she would not seek...</td>\n",
       "    </tr>\n",
       "    <tr>\n",
       "      <th>3</th>\n",
       "      <td>381</td>\n",
       "      <td>http://docquery.fec.gov/pdf/285/20180320030000...</td>\n",
       "      <td>Mar. 20, 2018 Federal Elections Commission sen...</td>\n",
       "    </tr>\n",
       "    <tr>\n",
       "      <th>4</th>\n",
       "      <td>380</td>\n",
       "      <td>http://www.philly.com/philly/news/pennsylvania...</td>\n",
       "      <td>Nov. 1, 2017 Federal Bureau of Investigation i...</td>\n",
       "    </tr>\n",
       "  </tbody>\n",
       "</table>\n",
       "</div>"
      ],
      "text/plain": [
       "   entry_index                                       update_links  \\\n",
       "0          383  https://twitter.com/RepGosar/status/9584079460...   \n",
       "1          383  https://www.govtrack.us/congress/votes/115-201...   \n",
       "2          382  https://www.nytimes.com/2018/04/02/us/politics...   \n",
       "3          381  http://docquery.fec.gov/pdf/285/20180320030000...   \n",
       "4          380  http://www.philly.com/philly/news/pennsylvania...   \n",
       "\n",
       "                                             updates  \n",
       "0  Jan. 30, 2018 Asked Capitol Police to arrest D...  \n",
       "1  Feb. 6, 2018 House of Representatives tabled r...  \n",
       "2  Apr. 2, 2018 Esty announced she would not seek...  \n",
       "3  Mar. 20, 2018 Federal Elections Commission sen...  \n",
       "4  Nov. 1, 2017 Federal Bureau of Investigation i...  "
      ]
     },
     "metadata": {},
     "output_type": "display_data"
    }
   ],
   "source": [
    "display(timeline_sql.head())"
   ]
  },
  {
   "cell_type": "code",
   "execution_count": 155,
   "metadata": {},
   "outputs": [
    {
     "data": {
      "text/html": [
       "<div>\n",
       "<style scoped>\n",
       "    .dataframe tbody tr th:only-of-type {\n",
       "        vertical-align: middle;\n",
       "    }\n",
       "\n",
       "    .dataframe tbody tr th {\n",
       "        vertical-align: top;\n",
       "    }\n",
       "\n",
       "    .dataframe thead th {\n",
       "        text-align: right;\n",
       "    }\n",
       "</style>\n",
       "<table border=\"1\" class=\"dataframe\">\n",
       "  <thead>\n",
       "    <tr style=\"text-align: right;\">\n",
       "      <th></th>\n",
       "      <th>party</th>\n",
       "      <th>member_name</th>\n",
       "      <th>tags</th>\n",
       "    </tr>\n",
       "  </thead>\n",
       "  <tbody>\n",
       "    <tr>\n",
       "      <th>0</th>\n",
       "      <td>Federalist</td>\n",
       "      <td>Sen. Humphrey Marshall</td>\n",
       "      <td>ethics violation</td>\n",
       "    </tr>\n",
       "    <tr>\n",
       "      <th>1</th>\n",
       "      <td>Federalist</td>\n",
       "      <td>Sen. Humphrey Marshall</td>\n",
       "      <td>resolved</td>\n",
       "    </tr>\n",
       "    <tr>\n",
       "      <th>2</th>\n",
       "      <td>Republican</td>\n",
       "      <td>Rep. Matthew Lyon</td>\n",
       "      <td>ethics violation</td>\n",
       "    </tr>\n",
       "    <tr>\n",
       "      <th>3</th>\n",
       "      <td>Republican</td>\n",
       "      <td>Rep. Matthew Lyon</td>\n",
       "      <td>resolved</td>\n",
       "    </tr>\n",
       "    <tr>\n",
       "      <th>4</th>\n",
       "      <td>Republican</td>\n",
       "      <td>Rep. Matthew Lyon</td>\n",
       "      <td>ethics violation</td>\n",
       "    </tr>\n",
       "    <tr>\n",
       "      <th>5</th>\n",
       "      <td>Republican</td>\n",
       "      <td>Rep. Matthew Lyon</td>\n",
       "      <td>resolved</td>\n",
       "    </tr>\n",
       "    <tr>\n",
       "      <th>6</th>\n",
       "      <td>Federalist</td>\n",
       "      <td>Rep. Roger Griswold</td>\n",
       "      <td>ethics violation</td>\n",
       "    </tr>\n",
       "    <tr>\n",
       "      <th>7</th>\n",
       "      <td>Federalist</td>\n",
       "      <td>Rep. Roger Griswold</td>\n",
       "      <td>resolved</td>\n",
       "    </tr>\n",
       "    <tr>\n",
       "      <th>8</th>\n",
       "      <td>Republican</td>\n",
       "      <td>Sen. William Blount</td>\n",
       "      <td>other crimes</td>\n",
       "    </tr>\n",
       "    <tr>\n",
       "      <th>9</th>\n",
       "      <td>Republican</td>\n",
       "      <td>Sen. William Blount</td>\n",
       "      <td>expulsion</td>\n",
       "    </tr>\n",
       "  </tbody>\n",
       "</table>\n",
       "</div>"
      ],
      "text/plain": [
       "        party             member_name              tags\n",
       "0  Federalist  Sen. Humphrey Marshall  ethics violation\n",
       "1  Federalist  Sen. Humphrey Marshall          resolved\n",
       "2  Republican       Rep. Matthew Lyon  ethics violation\n",
       "3  Republican       Rep. Matthew Lyon          resolved\n",
       "4  Republican       Rep. Matthew Lyon  ethics violation\n",
       "5  Republican       Rep. Matthew Lyon          resolved\n",
       "6  Federalist     Rep. Roger Griswold  ethics violation\n",
       "7  Federalist     Rep. Roger Griswold          resolved\n",
       "8  Republican     Sen. William Blount      other crimes\n",
       "9  Republican     Sen. William Blount         expulsion"
      ]
     },
     "execution_count": 155,
     "metadata": {},
     "output_type": "execute_result"
    }
   ],
   "source": [
    "query = '''SELECT E.party, E.member_name, T.tags\n",
    "        FROM misconduct_entries E INNER JOIN misconduct_tags T\n",
    "        ON E.entry_index = T.entry_index\n",
    "        LIMIT 10'''\n",
    "pd.read_sql(query,con=engine)"
   ]
  },
  {
   "cell_type": "markdown",
   "metadata": {},
   "source": [
    "### Plot Results"
   ]
  },
  {
   "cell_type": "code",
   "execution_count": 156,
   "metadata": {},
   "outputs": [],
   "source": [
    "import matplotlib.pyplot as plt\n",
    "% matplotlib inline"
   ]
  },
  {
   "cell_type": "code",
   "execution_count": 157,
   "metadata": {},
   "outputs": [
    {
     "data": {
      "text/html": [
       "<div>\n",
       "<style scoped>\n",
       "    .dataframe tbody tr th:only-of-type {\n",
       "        vertical-align: middle;\n",
       "    }\n",
       "\n",
       "    .dataframe tbody tr th {\n",
       "        vertical-align: top;\n",
       "    }\n",
       "\n",
       "    .dataframe thead th {\n",
       "        text-align: right;\n",
       "    }\n",
       "</style>\n",
       "<table border=\"1\" class=\"dataframe\">\n",
       "  <thead>\n",
       "    <tr style=\"text-align: right;\">\n",
       "      <th></th>\n",
       "      <th>entry_index</th>\n",
       "    </tr>\n",
       "    <tr>\n",
       "      <th>tags</th>\n",
       "      <th></th>\n",
       "    </tr>\n",
       "  </thead>\n",
       "  <tbody>\n",
       "    <tr>\n",
       "      <th>resolved</th>\n",
       "      <td>369</td>\n",
       "    </tr>\n",
       "    <tr>\n",
       "      <th>ethics violation</th>\n",
       "      <td>159</td>\n",
       "    </tr>\n",
       "    <tr>\n",
       "      <th>bribery &amp; corruption</th>\n",
       "      <td>96</td>\n",
       "    </tr>\n",
       "    <tr>\n",
       "      <th>other crimes</th>\n",
       "      <td>82</td>\n",
       "    </tr>\n",
       "    <tr>\n",
       "      <th>campaign &amp; elections</th>\n",
       "      <td>68</td>\n",
       "    </tr>\n",
       "  </tbody>\n",
       "</table>\n",
       "</div>"
      ],
      "text/plain": [
       "                      entry_index\n",
       "tags                             \n",
       "resolved                      369\n",
       "ethics violation              159\n",
       "bribery & corruption           96\n",
       "other crimes                   82\n",
       "campaign & elections           68"
      ]
     },
     "execution_count": 157,
     "metadata": {},
     "output_type": "execute_result"
    }
   ],
   "source": [
    "# Plot most frequent tags\n",
    "top_tags = tags_sql.pivot_table(\n",
    "    index='tags',aggfunc='count').sort_values(\n",
    "    'entry_index',ascending=False)\n",
    "top_tags.head()"
   ]
  },
  {
   "cell_type": "code",
   "execution_count": 158,
   "metadata": {},
   "outputs": [
    {
     "data": {
      "image/png": "[encoded data removed]",
      "text/plain": [
       "<Figure size 1080x360 with 1 Axes>"
      ]
     },
     "metadata": {},
     "output_type": "display_data"
    }
   ],
   "source": [
    "fig,ax = plt.subplots(figsize=(15,5))\n",
    "# Start from one to skip over \"resolved\"\n",
    "top_tags.iloc[1:11].plot(kind='bar',legend=None,rot=45,ax=ax)\n",
    "\n",
    "ax.set_title('Top 10 Misconduct Types',fontsize=18,fontweight='bold')\n",
    "ax.set_xlabel('')\n",
    "ax.set_ylabel('Number of Allegations',fontsize=12)\n",
    "\n",
    "plt.show()"
   ]
  },
  {
   "cell_type": "code",
   "execution_count": 159,
   "metadata": {},
   "outputs": [
    {
     "data": {
      "text/html": [
       "<div>\n",
       "<style scoped>\n",
       "    .dataframe tbody tr th:only-of-type {\n",
       "        vertical-align: middle;\n",
       "    }\n",
       "\n",
       "    .dataframe tbody tr th {\n",
       "        vertical-align: top;\n",
       "    }\n",
       "\n",
       "    .dataframe thead th {\n",
       "        text-align: right;\n",
       "    }\n",
       "</style>\n",
       "<table border=\"1\" class=\"dataframe\">\n",
       "  <thead>\n",
       "    <tr style=\"text-align: right;\">\n",
       "      <th></th>\n",
       "      <th>district</th>\n",
       "      <th>entry_index</th>\n",
       "      <th>member</th>\n",
       "      <th>member_name</th>\n",
       "      <th>member_page</th>\n",
       "      <th>paragraph</th>\n",
       "    </tr>\n",
       "    <tr>\n",
       "      <th>party</th>\n",
       "      <th></th>\n",
       "      <th></th>\n",
       "      <th></th>\n",
       "      <th></th>\n",
       "      <th></th>\n",
       "      <th></th>\n",
       "    </tr>\n",
       "  </thead>\n",
       "  <tbody>\n",
       "    <tr>\n",
       "      <th>Democrat</th>\n",
       "      <td>211</td>\n",
       "      <td>211</td>\n",
       "      <td>211</td>\n",
       "      <td>211</td>\n",
       "      <td>211</td>\n",
       "      <td>211</td>\n",
       "    </tr>\n",
       "    <tr>\n",
       "      <th>Republican</th>\n",
       "      <td>155</td>\n",
       "      <td>155</td>\n",
       "      <td>155</td>\n",
       "      <td>155</td>\n",
       "      <td>155</td>\n",
       "      <td>155</td>\n",
       "    </tr>\n",
       "    <tr>\n",
       "      <th>Whig</th>\n",
       "      <td>6</td>\n",
       "      <td>6</td>\n",
       "      <td>6</td>\n",
       "      <td>6</td>\n",
       "      <td>6</td>\n",
       "      <td>6</td>\n",
       "    </tr>\n",
       "    <tr>\n",
       "      <th>A (Miscellaneous)</th>\n",
       "      <td>4</td>\n",
       "      <td>4</td>\n",
       "      <td>4</td>\n",
       "      <td>4</td>\n",
       "      <td>4</td>\n",
       "      <td>4</td>\n",
       "    </tr>\n",
       "    <tr>\n",
       "      <th>Federalist</th>\n",
       "      <td>3</td>\n",
       "      <td>3</td>\n",
       "      <td>3</td>\n",
       "      <td>3</td>\n",
       "      <td>3</td>\n",
       "      <td>3</td>\n",
       "    </tr>\n",
       "  </tbody>\n",
       "</table>\n",
       "</div>"
      ],
      "text/plain": [
       "                   district  entry_index  member  member_name  member_page  \\\n",
       "party                                                                        \n",
       "Democrat                211          211     211          211          211   \n",
       "Republican              155          155     155          155          155   \n",
       "Whig                      6            6       6            6            6   \n",
       "A (Miscellaneous)         4            4       4            4            4   \n",
       "Federalist                3            3       3            3            3   \n",
       "\n",
       "                   paragraph  \n",
       "party                         \n",
       "Democrat                 211  \n",
       "Republican               155  \n",
       "Whig                       6  \n",
       "A (Miscellaneous)          4  \n",
       "Federalist                 3  "
      ]
     },
     "execution_count": 159,
     "metadata": {},
     "output_type": "execute_result"
    }
   ],
   "source": [
    "# Plot parties with most allegations\n",
    "top_parties = entries_sql.pivot_table(\n",
    "    index='party',\n",
    "    aggfunc='count'\n",
    ").sort_values('entry_index',ascending=False)\n",
    "top_parties.head()"
   ]
  },
  {
   "cell_type": "code",
   "execution_count": 160,
   "metadata": {},
   "outputs": [
    {
     "data": {
      "image/png": "[encoded data removed]",
      "text/plain": [
       "<Figure size 1080x360 with 1 Axes>"
      ]
     },
     "metadata": {},
     "output_type": "display_data"
    }
   ],
   "source": [
    "fig,ax = plt.subplots(figsize=(15,5))\n",
    "\n",
    "top_parties['entry_index'].plot(kind='bar',legend=None,rot=0,ax=ax)\n",
    "ax.set_title('Party by Misconduct Allegations',fontsize=18,fontweight='bold')\n",
    "ax.set_xlabel('Parties',fontsize=12)\n",
    "ax.set_ylabel('Number of Allegations',fontsize=12)\n",
    "\n",
    "plt.show()"
   ]
  },
  {
   "cell_type": "code",
   "execution_count": 161,
   "metadata": {},
   "outputs": [
    {
     "data": {
      "text/html": [
       "<div>\n",
       "<style scoped>\n",
       "    .dataframe tbody tr th:only-of-type {\n",
       "        vertical-align: middle;\n",
       "    }\n",
       "\n",
       "    .dataframe tbody tr th {\n",
       "        vertical-align: top;\n",
       "    }\n",
       "\n",
       "    .dataframe thead th {\n",
       "        text-align: right;\n",
       "    }\n",
       "</style>\n",
       "<table border=\"1\" class=\"dataframe\">\n",
       "  <thead>\n",
       "    <tr style=\"text-align: right;\">\n",
       "      <th></th>\n",
       "      <th>district</th>\n",
       "      <th>entry_index</th>\n",
       "      <th>member</th>\n",
       "      <th>member_page</th>\n",
       "      <th>paragraph</th>\n",
       "      <th>party</th>\n",
       "    </tr>\n",
       "    <tr>\n",
       "      <th>member_name</th>\n",
       "      <th></th>\n",
       "      <th></th>\n",
       "      <th></th>\n",
       "      <th></th>\n",
       "      <th></th>\n",
       "      <th></th>\n",
       "    </tr>\n",
       "  </thead>\n",
       "  <tbody>\n",
       "    <tr>\n",
       "      <th>Rep. Newton Gingrich</th>\n",
       "      <td>9</td>\n",
       "      <td>9</td>\n",
       "      <td>9</td>\n",
       "      <td>9</td>\n",
       "      <td>9</td>\n",
       "      <td>9</td>\n",
       "    </tr>\n",
       "    <tr>\n",
       "      <th>Rep. Luis Gutiérrez</th>\n",
       "      <td>4</td>\n",
       "      <td>4</td>\n",
       "      <td>4</td>\n",
       "      <td>4</td>\n",
       "      <td>4</td>\n",
       "      <td>4</td>\n",
       "    </tr>\n",
       "    <tr>\n",
       "      <th>Rep. Charles Wilson</th>\n",
       "      <td>4</td>\n",
       "      <td>4</td>\n",
       "      <td>4</td>\n",
       "      <td>4</td>\n",
       "      <td>4</td>\n",
       "      <td>4</td>\n",
       "    </tr>\n",
       "    <tr>\n",
       "      <th>Rep. Thomas “Tom” DeLay</th>\n",
       "      <td>3</td>\n",
       "      <td>3</td>\n",
       "      <td>3</td>\n",
       "      <td>3</td>\n",
       "      <td>3</td>\n",
       "      <td>3</td>\n",
       "    </tr>\n",
       "    <tr>\n",
       "      <th>Rep. John Adams</th>\n",
       "      <td>3</td>\n",
       "      <td>3</td>\n",
       "      <td>3</td>\n",
       "      <td>3</td>\n",
       "      <td>3</td>\n",
       "      <td>3</td>\n",
       "    </tr>\n",
       "  </tbody>\n",
       "</table>\n",
       "</div>"
      ],
      "text/plain": [
       "                         district  entry_index  member  member_page  \\\n",
       "member_name                                                           \n",
       "Rep. Newton Gingrich            9            9       9            9   \n",
       "Rep. Luis Gutiérrez             4            4       4            4   \n",
       "Rep. Charles Wilson             4            4       4            4   \n",
       "Rep. Thomas “Tom” DeLay         3            3       3            3   \n",
       "Rep. John Adams                 3            3       3            3   \n",
       "\n",
       "                         paragraph  party  \n",
       "member_name                                \n",
       "Rep. Newton Gingrich             9      9  \n",
       "Rep. Luis Gutiérrez              4      4  \n",
       "Rep. Charles Wilson              4      4  \n",
       "Rep. Thomas “Tom” DeLay          3      3  \n",
       "Rep. John Adams                  3      3  "
      ]
     },
     "execution_count": 161,
     "metadata": {},
     "output_type": "execute_result"
    }
   ],
   "source": [
    "# Plot members with most allegations\n",
    "top_member = entries_sql.pivot_table(\n",
    "    index='member_name',\n",
    "    aggfunc='count'\n",
    ").sort_values('entry_index',ascending=False)\n",
    "\n",
    "top_member.head()"
   ]
  },
  {
   "cell_type": "code",
   "execution_count": 162,
   "metadata": {},
   "outputs": [
    {
     "data": {
      "image/png": "[encoded data removed]",
      "text/plain": [
       "<Figure size 1080x360 with 1 Axes>"
      ]
     },
     "metadata": {},
     "output_type": "display_data"
    }
   ],
   "source": [
    "fig,ax = plt.subplots(figsize=(15,5))\n",
    "\n",
    "top_member['entry_index'].head(10).plot(kind='bar',legend=None,rot=45,ax=ax)\n",
    "ax.set_title('Top 10 Congress Members',fontsize=18,fontweight='bold')\n",
    "ax.set_xlabel('Congress Members',fontsize=12)\n",
    "ax.set_ylabel('Number of Allegations',fontsize=12)\n",
    "\n",
    "plt.show()"
   ]
  },
  {
   "cell_type": "code",
   "execution_count": null,
   "metadata": {},
   "outputs": [],
   "source": []
  }
 ],
 "metadata": {
  "kernelspec": {
   "display_name": "Python 3",
   "language": "python",
   "name": "python3"
  },
  "language_info": {
   "codemirror_mode": {
    "name": "ipython",
    "version": 3
   },
   "file_extension": ".py",
   "mimetype": "text/x-python",
   "name": "python",
   "nbconvert_exporter": "python",
   "pygments_lexer": "ipython3",
   "version": "3.6.1"
  }
 },
 "nbformat": 4,
 "nbformat_minor": 2
}

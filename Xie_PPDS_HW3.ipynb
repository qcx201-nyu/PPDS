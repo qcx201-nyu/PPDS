{
 "cells": [
  {
   "cell_type": "markdown",
   "metadata": {},
   "source": [
    "## PPDS Homework 3\n",
    "Jack (Quan Cheng) Xie | N14077607 | qcx201 <br>\n",
    "Professor Panos Ipeirotis <br>\n",
    "2 April 2018 <br>"
   ]
  },
  {
   "cell_type": "markdown",
   "metadata": {},
   "source": [
    "The webpage I am crawling is https://www.govtrack.us/misconduct, which compiles misconduct allegations against congress members from 1789 to the present. <br>\n",
    "\n",
    "Each webpage entry includes the congress member (name, disctrict, period in office), a link to the member's page, a paragraph summary of the misconduct, and a timeline of the investigation of allegations. <br>\n",
    "\n",
    "This is one of the data sources we are considering for our project on providing information about politicians."
   ]
  },
  {
   "cell_type": "code",
   "execution_count": 1,
   "metadata": {},
   "outputs": [],
   "source": [
    "import requests\n",
    "from lxml import html\n",
    "import pandas as pd\n",
    "import re\n",
    "\n",
    "url = \"https://www.govtrack.us/misconduct\"\n",
    "gt_url = 'https://www.govtrack.us'\n",
    "response = requests.get(url)\n",
    "doc = html.fromstring(response.text)"
   ]
  },
  {
   "cell_type": "code",
   "execution_count": 2,
   "metadata": {},
   "outputs": [
    {
     "name": "stdout",
     "output_type": "stream",
     "text": [
      "Congressional Misconduct Database\n"
     ]
    }
   ],
   "source": [
    "print(doc.xpath('//h1')[0].text_content())"
   ]
  },
  {
   "cell_type": "markdown",
   "metadata": {},
   "source": [
    "### 1. Website Scraping Using Regex and Xpath"
   ]
  },
  {
   "cell_type": "code",
   "execution_count": 3,
   "metadata": {},
   "outputs": [],
   "source": [
    "# Using Regex to get entry class names\n",
    "html = requests.get(url).text\n",
    "\n",
    "regex = re.compile(r'class=\"misconduct-entry.*\"')\n",
    "matches = regex.finditer(html)\n",
    "calls = [m.group() for m in matches]\n",
    "\n",
    "entries = [doc.xpath('//div[@{ent}]'.format(\n",
    "    ent=call))[0] for call in calls]"
   ]
  },
  {
   "cell_type": "code",
   "execution_count": 4,
   "metadata": {},
   "outputs": [
    {
     "name": "stdout",
     "output_type": "stream",
     "text": [
      "Total calls: 378 \n",
      "Unique calls: 70\n"
     ]
    }
   ],
   "source": [
    "# Note calls are not unique\n",
    "print('Total calls:',len(calls),\n",
    "      '\\nUnique calls:',len(set(calls)))"
   ]
  },
  {
   "cell_type": "code",
   "execution_count": 5,
   "metadata": {},
   "outputs": [],
   "source": [
    "def parseEntryNode(entry):\n",
    "\n",
    "    member = entry.xpath('.//h3/a')[0].text_content().strip()\n",
    "\n",
    "    member_page = gt_url+entry.xpath('.//h3/a')[0].get('href')\n",
    "\n",
    "    tags = [tag.text_content().strip()\n",
    "            for tag in entry.xpath('.//div[@class=\"tag-list\"]')[0]]\n",
    "\n",
    "    paragraph = entry.xpath('.//p')[0].text_content()\n",
    "\n",
    "    updates = [' '.join(update.text_content().split())\n",
    "               for update in entry.xpath('.//table')[0]]\n",
    "\n",
    "    update_links = [update.xpath('.//a')[0].get('href')\n",
    "                    if len(update.xpath('.//a')) > 0\n",
    "                    else None\n",
    "            for update in entry.xpath('.//table')[0]]\n",
    "    \n",
    "    result = {\n",
    "    'member' : member,\n",
    "    'member_page' : member_page,\n",
    "    'tags' : tags,\n",
    "    'paragraph' : paragraph,\n",
    "    'updates' : updates,\n",
    "    'update_links' : update_links\n",
    "    }\n",
    "    \n",
    "    return result\n",
    "\n",
    "contents = doc.xpath('//div[@class=\"col-sm-8 col-sm-pull-4\"]')[0]\n",
    "data = [parseEntryNode(entry) for entry in entries]\n",
    "df = pd.DataFrame(data)\n"
   ]
  },
  {
   "cell_type": "code",
   "execution_count": 6,
   "metadata": {},
   "outputs": [
    {
     "name": "stdout",
     "output_type": "stream",
     "text": [
      "Duplicate Rows: 308\n"
     ]
    }
   ],
   "source": [
    "# Print duplicates\n",
    "print('Duplicate Rows:', len(df[df['paragraph'].duplicated()]))"
   ]
  },
  {
   "cell_type": "code",
   "execution_count": 7,
   "metadata": {},
   "outputs": [],
   "source": [
    "# Set index (counting from oldest) to use as primary key in SQL\n",
    "df['entry_index'] = len(df)-df.index"
   ]
  },
  {
   "cell_type": "code",
   "execution_count": 8,
   "metadata": {},
   "outputs": [
    {
     "data": {
      "text/html": [
       "<div>\n",
       "<style scoped>\n",
       "    .dataframe tbody tr th:only-of-type {\n",
       "        vertical-align: middle;\n",
       "    }\n",
       "\n",
       "    .dataframe tbody tr th {\n",
       "        vertical-align: top;\n",
       "    }\n",
       "\n",
       "    .dataframe thead th {\n",
       "        text-align: right;\n",
       "    }\n",
       "</style>\n",
       "<table border=\"1\" class=\"dataframe\">\n",
       "  <thead>\n",
       "    <tr style=\"text-align: right;\">\n",
       "      <th></th>\n",
       "      <th>member</th>\n",
       "      <th>member_page</th>\n",
       "      <th>paragraph</th>\n",
       "      <th>tags</th>\n",
       "      <th>update_links</th>\n",
       "      <th>updates</th>\n",
       "      <th>entry_index</th>\n",
       "    </tr>\n",
       "  </thead>\n",
       "  <tbody>\n",
       "    <tr>\n",
       "      <th>0</th>\n",
       "      <td>Rep. Robert Brady [D-PA1]</td>\n",
       "      <td>https://www.govtrack.us/congress/members/rober...</td>\n",
       "      <td>Brady faced an allegation of leading a crimina...</td>\n",
       "      <td>[bribery &amp; corruption, campaign &amp; elections, u...</td>\n",
       "      <td>[http://www.philly.com/philly/news/pennsylvani...</td>\n",
       "      <td>[Nov. 1, 2017 Federal Bureau of Investigation ...</td>\n",
       "      <td>378</td>\n",
       "    </tr>\n",
       "    <tr>\n",
       "      <th>1</th>\n",
       "      <td>Rep. Patrick Meehan [R-PA7]</td>\n",
       "      <td>https://www.govtrack.us/congress/members/patri...</td>\n",
       "      <td>While serving on the House Committee on Ethics...</td>\n",
       "      <td>[sexual harassment &amp; abuse, unresolved]</td>\n",
       "      <td>[https://www.nytimes.com/2018/01/20/us/politic...</td>\n",
       "      <td>[Jan. 20, 2018 House of Representatives remove...</td>\n",
       "      <td>377</td>\n",
       "    </tr>\n",
       "    <tr>\n",
       "      <th>2</th>\n",
       "      <td>Rep. Patrick Meehan [R-PA7]</td>\n",
       "      <td>https://www.govtrack.us/congress/members/patri...</td>\n",
       "      <td>While serving on the House Committee on Ethics...</td>\n",
       "      <td>[sexual harassment &amp; abuse, unresolved]</td>\n",
       "      <td>[https://www.nytimes.com/2018/01/20/us/politic...</td>\n",
       "      <td>[Jan. 20, 2018 House of Representatives remove...</td>\n",
       "      <td>376</td>\n",
       "    </tr>\n",
       "  </tbody>\n",
       "</table>\n",
       "</div>"
      ],
      "text/plain": [
       "                        member  \\\n",
       "0    Rep. Robert Brady [D-PA1]   \n",
       "1  Rep. Patrick Meehan [R-PA7]   \n",
       "2  Rep. Patrick Meehan [R-PA7]   \n",
       "\n",
       "                                         member_page  \\\n",
       "0  https://www.govtrack.us/congress/members/rober...   \n",
       "1  https://www.govtrack.us/congress/members/patri...   \n",
       "2  https://www.govtrack.us/congress/members/patri...   \n",
       "\n",
       "                                           paragraph  \\\n",
       "0  Brady faced an allegation of leading a crimina...   \n",
       "1  While serving on the House Committee on Ethics...   \n",
       "2  While serving on the House Committee on Ethics...   \n",
       "\n",
       "                                                tags  \\\n",
       "0  [bribery & corruption, campaign & elections, u...   \n",
       "1            [sexual harassment & abuse, unresolved]   \n",
       "2            [sexual harassment & abuse, unresolved]   \n",
       "\n",
       "                                        update_links  \\\n",
       "0  [http://www.philly.com/philly/news/pennsylvani...   \n",
       "1  [https://www.nytimes.com/2018/01/20/us/politic...   \n",
       "2  [https://www.nytimes.com/2018/01/20/us/politic...   \n",
       "\n",
       "                                             updates  entry_index  \n",
       "0  [Nov. 1, 2017 Federal Bureau of Investigation ...          378  \n",
       "1  [Jan. 20, 2018 House of Representatives remove...          377  \n",
       "2  [Jan. 20, 2018 House of Representatives remove...          376  "
      ]
     },
     "execution_count": 8,
     "metadata": {},
     "output_type": "execute_result"
    }
   ],
   "source": [
    "# Preview the dataframe\n",
    "df.head(3)"
   ]
  },
  {
   "cell_type": "markdown",
   "metadata": {},
   "source": [
    "#### Scraping Alternative\n",
    "The parsing method using Regex above produces duplicates because of the html structure that has the same calls. Below is a method that of iterative indexing to get the data."
   ]
  },
  {
   "cell_type": "code",
   "execution_count": 9,
   "metadata": {},
   "outputs": [],
   "source": [
    "contents = doc.xpath('//div[@class=\"col-sm-8 col-sm-pull-4\"]')[0]\n",
    "# Data contants starts from index 1\n",
    "data = [parseEntryNode(contents[i]) for i in range(1,len(contents))] \n",
    "df = pd.DataFrame(data)"
   ]
  },
  {
   "cell_type": "code",
   "execution_count": 10,
   "metadata": {},
   "outputs": [
    {
     "name": "stdout",
     "output_type": "stream",
     "text": [
      "Duplicate rows: 0\n"
     ]
    }
   ],
   "source": [
    "# Print duplicates\n",
    "print('Duplicate rows:', len(df[df['paragraph'].duplicated()]))"
   ]
  },
  {
   "cell_type": "code",
   "execution_count": 11,
   "metadata": {},
   "outputs": [],
   "source": [
    "# Reverse entry_index for primary key\n",
    "df['entry_index'] = len(df)-df.index"
   ]
  },
  {
   "cell_type": "code",
   "execution_count": 12,
   "metadata": {},
   "outputs": [
    {
     "data": {
      "text/html": [
       "<div>\n",
       "<style scoped>\n",
       "    .dataframe tbody tr th:only-of-type {\n",
       "        vertical-align: middle;\n",
       "    }\n",
       "\n",
       "    .dataframe tbody tr th {\n",
       "        vertical-align: top;\n",
       "    }\n",
       "\n",
       "    .dataframe thead th {\n",
       "        text-align: right;\n",
       "    }\n",
       "</style>\n",
       "<table border=\"1\" class=\"dataframe\">\n",
       "  <thead>\n",
       "    <tr style=\"text-align: right;\">\n",
       "      <th></th>\n",
       "      <th>member</th>\n",
       "      <th>member_page</th>\n",
       "      <th>paragraph</th>\n",
       "      <th>tags</th>\n",
       "      <th>update_links</th>\n",
       "      <th>updates</th>\n",
       "      <th>entry_index</th>\n",
       "    </tr>\n",
       "  </thead>\n",
       "  <tbody>\n",
       "    <tr>\n",
       "      <th>0</th>\n",
       "      <td>Rep. Robert Brady [D-PA1]</td>\n",
       "      <td>https://www.govtrack.us/congress/members/rober...</td>\n",
       "      <td>Brady faced an allegation of leading a crimina...</td>\n",
       "      <td>[bribery &amp; corruption, campaign &amp; elections, u...</td>\n",
       "      <td>[http://www.philly.com/philly/news/pennsylvani...</td>\n",
       "      <td>[Nov. 1, 2017 Federal Bureau of Investigation ...</td>\n",
       "      <td>378</td>\n",
       "    </tr>\n",
       "    <tr>\n",
       "      <th>1</th>\n",
       "      <td>Rep. Patrick Meehan [R-PA7]</td>\n",
       "      <td>https://www.govtrack.us/congress/members/patri...</td>\n",
       "      <td>While serving on the House Committee on Ethics...</td>\n",
       "      <td>[sexual harassment &amp; abuse, unresolved]</td>\n",
       "      <td>[https://www.nytimes.com/2018/01/20/us/politic...</td>\n",
       "      <td>[Jan. 20, 2018 House of Representatives remove...</td>\n",
       "      <td>377</td>\n",
       "    </tr>\n",
       "    <tr>\n",
       "      <th>2</th>\n",
       "      <td>Rep. Ruben Kihuen [D-NV4]</td>\n",
       "      <td>https://www.govtrack.us/congress/members/ruben...</td>\n",
       "      <td>On Dec. 15, 2017, the House Committee on Ethic...</td>\n",
       "      <td>[sexual harassment &amp; abuse, unresolved]</td>\n",
       "      <td>[https://ethics.house.gov/press-release/statem...</td>\n",
       "      <td>[Dec. 15, 2017 House Committee on Ethics opene...</td>\n",
       "      <td>376</td>\n",
       "    </tr>\n",
       "  </tbody>\n",
       "</table>\n",
       "</div>"
      ],
      "text/plain": [
       "                        member  \\\n",
       "0    Rep. Robert Brady [D-PA1]   \n",
       "1  Rep. Patrick Meehan [R-PA7]   \n",
       "2    Rep. Ruben Kihuen [D-NV4]   \n",
       "\n",
       "                                         member_page  \\\n",
       "0  https://www.govtrack.us/congress/members/rober...   \n",
       "1  https://www.govtrack.us/congress/members/patri...   \n",
       "2  https://www.govtrack.us/congress/members/ruben...   \n",
       "\n",
       "                                           paragraph  \\\n",
       "0  Brady faced an allegation of leading a crimina...   \n",
       "1  While serving on the House Committee on Ethics...   \n",
       "2  On Dec. 15, 2017, the House Committee on Ethic...   \n",
       "\n",
       "                                                tags  \\\n",
       "0  [bribery & corruption, campaign & elections, u...   \n",
       "1            [sexual harassment & abuse, unresolved]   \n",
       "2            [sexual harassment & abuse, unresolved]   \n",
       "\n",
       "                                        update_links  \\\n",
       "0  [http://www.philly.com/philly/news/pennsylvani...   \n",
       "1  [https://www.nytimes.com/2018/01/20/us/politic...   \n",
       "2  [https://ethics.house.gov/press-release/statem...   \n",
       "\n",
       "                                             updates  entry_index  \n",
       "0  [Nov. 1, 2017 Federal Bureau of Investigation ...          378  \n",
       "1  [Jan. 20, 2018 House of Representatives remove...          377  \n",
       "2  [Dec. 15, 2017 House Committee on Ethics opene...          376  "
      ]
     },
     "execution_count": 12,
     "metadata": {},
     "output_type": "execute_result"
    }
   ],
   "source": [
    "# Preview the dataframe\n",
    "df.head(3)"
   ]
  },
  {
   "cell_type": "code",
   "execution_count": 13,
   "metadata": {},
   "outputs": [],
   "source": [
    "# Get names and districts of congress members using Regex\n",
    "# raw string for member column\n",
    "members_strings = df['member'].to_string()\n",
    "\n",
    "# The district regex is imperfect because of irregularities\n",
    "district_regex = re.compile(r'\\[+\\w-[\\w]*')\n",
    "district_matches = district_regex.finditer(members_strings)\n",
    "rg_district = [m.group()[1:] for m in district_matches]\n",
    "\n",
    "# Get names using regex\n",
    "names_regex = re.compile(r\"[A-z].*\\[\")\n",
    "names_matches = names_regex.finditer(members_strings)\n",
    "names = [m.group()[:-2] for m in names_matches]\n",
    "\n",
    "df['member_name'] = names\n",
    "\n",
    "# Get districts from names\n",
    "district = [df['member'][i].replace(\n",
    "    df['member_name'][i]+' ','')\n",
    "            for i in range(len(df))]\n",
    "\n",
    "df['district'] = district"
   ]
  },
  {
   "cell_type": "code",
   "execution_count": 14,
   "metadata": {},
   "outputs": [
    {
     "name": "stdout",
     "output_type": "stream",
     "text": [
      "regex results: 376 \n",
      "district list results: 378 \n",
      "df length: 378\n"
     ]
    }
   ],
   "source": [
    "# Because of irregularities in district format, regex misses some results\n",
    "print('regex results:',len(rg_district),\n",
    "      '\\ndistrict list results:',len(district),\n",
    "      '\\ndf length:',len(df))"
   ]
  },
  {
   "cell_type": "code",
   "execution_count": 15,
   "metadata": {},
   "outputs": [
    {
     "name": "stdout",
     "output_type": "stream",
     "text": [
      "{'D-', 'R-', 'J-', 'I-', 'R,', 'W-', 'U-', 'F-', 'A-'}\n"
     ]
    }
   ],
   "source": [
    "# Member parties are denoted by 1 letter abbreviations before the district\n",
    "print(set(df['district'].str[1:3]))"
   ]
  },
  {
   "cell_type": "code",
   "execution_count": 16,
   "metadata": {},
   "outputs": [],
   "source": [
    "# Add column with full party name\n",
    "party_dict = {'A':'A (Miscellaneous)','D':'Democrat','F':'Federalist',\n",
    "         'I':'Independent','J':'Jackson','R':'Republican',\n",
    "         'U' : 'Unconditional Unionist','W' :'Whig'}\n",
    "\n",
    "member_party = [party_dict[df['district'].iloc[i][1]] for i in range(len(df))]\n",
    "\n",
    "df['party'] = member_party"
   ]
  },
  {
   "cell_type": "code",
   "execution_count": 17,
   "metadata": {},
   "outputs": [
    {
     "data": {
      "text/html": [
       "<div>\n",
       "<style scoped>\n",
       "    .dataframe tbody tr th:only-of-type {\n",
       "        vertical-align: middle;\n",
       "    }\n",
       "\n",
       "    .dataframe tbody tr th {\n",
       "        vertical-align: top;\n",
       "    }\n",
       "\n",
       "    .dataframe thead th {\n",
       "        text-align: right;\n",
       "    }\n",
       "</style>\n",
       "<table border=\"1\" class=\"dataframe\">\n",
       "  <thead>\n",
       "    <tr style=\"text-align: right;\">\n",
       "      <th></th>\n",
       "      <th>member</th>\n",
       "      <th>member_name</th>\n",
       "      <th>district</th>\n",
       "      <th>party</th>\n",
       "    </tr>\n",
       "  </thead>\n",
       "  <tbody>\n",
       "    <tr>\n",
       "      <th>0</th>\n",
       "      <td>Rep. Robert Brady [D-PA1]</td>\n",
       "      <td>Rep. Robert Brady</td>\n",
       "      <td>[D-PA1]</td>\n",
       "      <td>Democrat</td>\n",
       "    </tr>\n",
       "    <tr>\n",
       "      <th>1</th>\n",
       "      <td>Rep. Patrick Meehan [R-PA7]</td>\n",
       "      <td>Rep. Patrick Meehan</td>\n",
       "      <td>[R-PA7]</td>\n",
       "      <td>Republican</td>\n",
       "    </tr>\n",
       "    <tr>\n",
       "      <th>2</th>\n",
       "      <td>Rep. Ruben Kihuen [D-NV4]</td>\n",
       "      <td>Rep. Ruben Kihuen</td>\n",
       "      <td>[D-NV4]</td>\n",
       "      <td>Democrat</td>\n",
       "    </tr>\n",
       "    <tr>\n",
       "      <th>3</th>\n",
       "      <td>Rep. Luis Gutiérrez [D-IL4]</td>\n",
       "      <td>Rep. Luis Gutiérrez</td>\n",
       "      <td>[D-IL4]</td>\n",
       "      <td>Democrat</td>\n",
       "    </tr>\n",
       "    <tr>\n",
       "      <th>4</th>\n",
       "      <td>Rep. Judy Chu [D-CA27]</td>\n",
       "      <td>Rep. Judy Chu</td>\n",
       "      <td>[D-CA27]</td>\n",
       "      <td>Democrat</td>\n",
       "    </tr>\n",
       "  </tbody>\n",
       "</table>\n",
       "</div>"
      ],
      "text/plain": [
       "                        member          member_name  district       party\n",
       "0    Rep. Robert Brady [D-PA1]    Rep. Robert Brady   [D-PA1]    Democrat\n",
       "1  Rep. Patrick Meehan [R-PA7]  Rep. Patrick Meehan   [R-PA7]  Republican\n",
       "2    Rep. Ruben Kihuen [D-NV4]    Rep. Ruben Kihuen   [D-NV4]    Democrat\n",
       "3  Rep. Luis Gutiérrez [D-IL4]  Rep. Luis Gutiérrez   [D-IL4]    Democrat\n",
       "4       Rep. Judy Chu [D-CA27]        Rep. Judy Chu  [D-CA27]    Democrat"
      ]
     },
     "execution_count": 17,
     "metadata": {},
     "output_type": "execute_result"
    }
   ],
   "source": [
    "# Let's see the result of our data cleaning\n",
    "df[['member','member_name','district','party']].head()"
   ]
  },
  {
   "cell_type": "markdown",
   "metadata": {},
   "source": [
    "### Creating SQL Database and Tables"
   ]
  },
  {
   "cell_type": "code",
   "execution_count": 18,
   "metadata": {},
   "outputs": [],
   "source": [
    "from sqlalchemy import create_engine\n",
    "\n",
    "conn_string = 'mysql://{user}:{password}@{host}:{port}/?charset=utf8'.format(\n",
    "    user     = 'root', \n",
    "    password = 'dwdstudent2015', \n",
    "    host     = '127.0.0.01', \n",
    "    port     = 3306, \n",
    "    encoding = 'utf-8'\n",
    ")\n",
    "engine = create_engine(conn_string)"
   ]
  },
  {
   "cell_type": "code",
   "execution_count": 19,
   "metadata": {},
   "outputs": [
    {
     "name": "stderr",
     "output_type": "stream",
     "text": [
      "/usr/local/lib/python3.5/dist-packages/sqlalchemy/engine/default.py:507: Warning: Can't create database 'congressional_misconduct'; database exists\n",
      "  cursor.execute(statement, parameters)\n"
     ]
    },
    {
     "data": {
      "text/plain": [
       "<sqlalchemy.engine.result.ResultProxy at 0x7f4f633e2978>"
      ]
     },
     "execution_count": 19,
     "metadata": {},
     "output_type": "execute_result"
    }
   ],
   "source": [
    "engine.execute('CREATE DATABASE IF NOT EXISTS congressional_misconduct')"
   ]
  },
  {
   "cell_type": "code",
   "execution_count": 20,
   "metadata": {},
   "outputs": [
    {
     "data": {
      "text/html": [
       "<div>\n",
       "<style scoped>\n",
       "    .dataframe tbody tr th:only-of-type {\n",
       "        vertical-align: middle;\n",
       "    }\n",
       "\n",
       "    .dataframe tbody tr th {\n",
       "        vertical-align: top;\n",
       "    }\n",
       "\n",
       "    .dataframe thead th {\n",
       "        text-align: right;\n",
       "    }\n",
       "</style>\n",
       "<table border=\"1\" class=\"dataframe\">\n",
       "  <thead>\n",
       "    <tr style=\"text-align: right;\">\n",
       "      <th></th>\n",
       "      <th>Database</th>\n",
       "    </tr>\n",
       "  </thead>\n",
       "  <tbody>\n",
       "    <tr>\n",
       "      <th>0</th>\n",
       "      <td>congressional_misconduct</td>\n",
       "    </tr>\n",
       "    <tr>\n",
       "      <th>1</th>\n",
       "      <td>information_schema</td>\n",
       "    </tr>\n",
       "    <tr>\n",
       "      <th>2</th>\n",
       "      <td>mysql</td>\n",
       "    </tr>\n",
       "    <tr>\n",
       "      <th>3</th>\n",
       "      <td>performance_schema</td>\n",
       "    </tr>\n",
       "    <tr>\n",
       "      <th>4</th>\n",
       "      <td>sys</td>\n",
       "    </tr>\n",
       "  </tbody>\n",
       "</table>\n",
       "</div>"
      ],
      "text/plain": [
       "                   Database\n",
       "0  congressional_misconduct\n",
       "1        information_schema\n",
       "2                     mysql\n",
       "3        performance_schema\n",
       "4                       sys"
      ]
     },
     "execution_count": 20,
     "metadata": {},
     "output_type": "execute_result"
    }
   ],
   "source": [
    "engine.execute('USE congressional_misconduct')\n",
    "pd.read_sql('SHOW Databases',con=engine)"
   ]
  },
  {
   "cell_type": "code",
   "execution_count": 21,
   "metadata": {},
   "outputs": [
    {
     "data": {
      "text/plain": [
       "<sqlalchemy.engine.result.ResultProxy at 0x7f4f74d85ef0>"
      ]
     },
     "execution_count": 21,
     "metadata": {},
     "output_type": "execute_result"
    }
   ],
   "source": [
    "engine.execute('USE congressional_misconduct')"
   ]
  },
  {
   "cell_type": "code",
   "execution_count": 22,
   "metadata": {},
   "outputs": [
    {
     "data": {
      "text/plain": [
       "<sqlalchemy.engine.result.ResultProxy at 0x7f4f62b7c780>"
      ]
     },
     "execution_count": 22,
     "metadata": {},
     "output_type": "execute_result"
    }
   ],
   "source": [
    "# Drop all existing tables\n",
    "db_tables = pd.read_sql('SHOW TABLES',con=engine).iloc[:,0]\n",
    "\n",
    "for t in db_tables:\n",
    "    if t != 'misconduct_entries':\n",
    "        engine.execute('DROP TABLE IF EXISTS {table}'.format(table = t))\n",
    "# Drop table with foreign key reference last        \n",
    "engine.execute('DROP TABLE IF EXISTS {table}'.format(table = 'misconduct_entries'))"
   ]
  },
  {
   "cell_type": "code",
   "execution_count": 23,
   "metadata": {},
   "outputs": [
    {
     "data": {
      "text/plain": [
       "<sqlalchemy.engine.result.ResultProxy at 0x7f4f633e26a0>"
      ]
     },
     "execution_count": 23,
     "metadata": {},
     "output_type": "execute_result"
    }
   ],
   "source": [
    "df[['entry_index','member_name','party','district',\n",
    "    'member','member_page','paragraph']].to_sql(name='misconduct_entries',\n",
    "                                                 con=engine,\n",
    "                                                 if_exists='replace',\n",
    "                                                 index=False)\n",
    "\n",
    "add_key_query = 'ALTER TABLE misconduct_entries ADD PRIMARY KEY(entry_index)'\n",
    "engine.execute(add_key_query)"
   ]
  },
  {
   "cell_type": "code",
   "execution_count": 24,
   "metadata": {},
   "outputs": [],
   "source": [
    "# Create database for misconduct tags\n",
    "\n",
    "# Create dataframe from iterated list\n",
    "index_list = list()\n",
    "tags_list = list()\n",
    "\n",
    "for i in range(len(df)):\n",
    "    for tag in df.iloc[i]['tags']:\n",
    "        index_list.append(df.iloc[i]['entry_index']) # Use entry_index as foreign key\n",
    "        tags_list.append(tag)\n",
    "        \n",
    "tags_df = pd.DataFrame({\n",
    "    'entry_index' : index_list,\n",
    "    'tags' : tags_list\n",
    "})\n",
    "\n",
    "# Create database\n",
    "tags_df.to_sql(name='misconduct_tags',\n",
    "                 con=engine,\n",
    "                 if_exists='replace',\n",
    "                 index=False)"
   ]
  },
  {
   "cell_type": "code",
   "execution_count": 25,
   "metadata": {},
   "outputs": [],
   "source": [
    "# Create database for investigation timeline updates\n",
    "\n",
    "# Create dataframe iterated list\n",
    "index_list = list()\n",
    "update_list = list()\n",
    "link_list = list()\n",
    "\n",
    "for i in range(len(df)):\n",
    "    for update in df.iloc[i]['updates']:\n",
    "        index_list.append(df.iloc[i]['entry_index'])\n",
    "        update_list.append(update)\n",
    "    for lnk in df.iloc[i]['update_links']:\n",
    "        link_list.append(lnk)\n",
    "                          \n",
    "updates_df = pd.DataFrame({\n",
    "    'entry_index' : index_list,\n",
    "    'updates' : update_list,\n",
    "    'update_links' : link_list\n",
    "})\n",
    "\n",
    "# Create database\n",
    "updates_df.to_sql(name='timeline_update',\n",
    "                 con=engine,\n",
    "                 if_exists='replace',\n",
    "                 index=False)"
   ]
  },
  {
   "cell_type": "code",
   "execution_count": 26,
   "metadata": {},
   "outputs": [],
   "source": [
    "# Add foreign keys\n",
    "db_tables = pd.read_sql('SHOW TABLES',con=engine).iloc[:,0]\n",
    "\n",
    "for t in db_tables:\n",
    "    if t != 'misconduct_entries':\n",
    "        add_key_query = '''\n",
    "        ALTER TABLE {table}\n",
    "        ADD FOREIGN KEY(entry_index)\n",
    "        REFERENCES misconduct_entries(entry_index)'''.format(table=t)\n",
    "\n",
    "        engine.execute(add_key_query)"
   ]
  },
  {
   "cell_type": "code",
   "execution_count": 27,
   "metadata": {},
   "outputs": [
    {
     "data": {
      "text/html": [
       "<div>\n",
       "<style scoped>\n",
       "    .dataframe tbody tr th:only-of-type {\n",
       "        vertical-align: middle;\n",
       "    }\n",
       "\n",
       "    .dataframe tbody tr th {\n",
       "        vertical-align: top;\n",
       "    }\n",
       "\n",
       "    .dataframe thead th {\n",
       "        text-align: right;\n",
       "    }\n",
       "</style>\n",
       "<table border=\"1\" class=\"dataframe\">\n",
       "  <thead>\n",
       "    <tr style=\"text-align: right;\">\n",
       "      <th></th>\n",
       "      <th>Tables_in_congressional_misconduct</th>\n",
       "    </tr>\n",
       "  </thead>\n",
       "  <tbody>\n",
       "    <tr>\n",
       "      <th>0</th>\n",
       "      <td>misconduct_entries</td>\n",
       "    </tr>\n",
       "    <tr>\n",
       "      <th>1</th>\n",
       "      <td>misconduct_tags</td>\n",
       "    </tr>\n",
       "    <tr>\n",
       "      <th>2</th>\n",
       "      <td>timeline_update</td>\n",
       "    </tr>\n",
       "  </tbody>\n",
       "</table>\n",
       "</div>"
      ],
      "text/plain": [
       "  Tables_in_congressional_misconduct\n",
       "0                 misconduct_entries\n",
       "1                    misconduct_tags\n",
       "2                    timeline_update"
      ]
     },
     "execution_count": 27,
     "metadata": {},
     "output_type": "execute_result"
    }
   ],
   "source": [
    "pd.read_sql('SHOW Tables',con=engine)"
   ]
  },
  {
   "cell_type": "code",
   "execution_count": 28,
   "metadata": {},
   "outputs": [],
   "source": [
    "query = 'SELECT * FROM misconduct_entries'\n",
    "entries_sql = pd.read_sql(query,con=engine)"
   ]
  },
  {
   "cell_type": "code",
   "execution_count": 29,
   "metadata": {},
   "outputs": [],
   "source": [
    "query = '''SELECT * FROM misconduct_tags'''\n",
    "tags_sql = pd.read_sql(query,con=engine)"
   ]
  },
  {
   "cell_type": "code",
   "execution_count": 30,
   "metadata": {},
   "outputs": [],
   "source": [
    "query = '''SELECT * FROM timeline_update'''\n",
    "timeline_sql = pd.read_sql(query,con=engine)"
   ]
  },
  {
   "cell_type": "code",
   "execution_count": 31,
   "metadata": {},
   "outputs": [
    {
     "data": {
      "text/html": [
       "<div>\n",
       "<style scoped>\n",
       "    .dataframe tbody tr th:only-of-type {\n",
       "        vertical-align: middle;\n",
       "    }\n",
       "\n",
       "    .dataframe tbody tr th {\n",
       "        vertical-align: top;\n",
       "    }\n",
       "\n",
       "    .dataframe thead th {\n",
       "        text-align: right;\n",
       "    }\n",
       "</style>\n",
       "<table border=\"1\" class=\"dataframe\">\n",
       "  <thead>\n",
       "    <tr style=\"text-align: right;\">\n",
       "      <th></th>\n",
       "      <th>entry_index</th>\n",
       "      <th>member_name</th>\n",
       "      <th>party</th>\n",
       "      <th>district</th>\n",
       "      <th>member</th>\n",
       "      <th>member_page</th>\n",
       "      <th>paragraph</th>\n",
       "    </tr>\n",
       "  </thead>\n",
       "  <tbody>\n",
       "    <tr>\n",
       "      <th>0</th>\n",
       "      <td>1</td>\n",
       "      <td>Sen. Humphrey Marshall</td>\n",
       "      <td>Federalist</td>\n",
       "      <td>[F-KY, 1795-1801]</td>\n",
       "      <td>Sen. Humphrey Marshall [F-KY, 1795-1801]</td>\n",
       "      <td>https://www.govtrack.us/congress/members/humph...</td>\n",
       "      <td>Marshall faced an allegation of misconduct pri...</td>\n",
       "    </tr>\n",
       "    <tr>\n",
       "      <th>1</th>\n",
       "      <td>2</td>\n",
       "      <td>Rep. Matthew Lyon</td>\n",
       "      <td>Republican</td>\n",
       "      <td>[R-KY1, 1807-1811]</td>\n",
       "      <td>Rep. Matthew Lyon [R-KY1, 1807-1811]</td>\n",
       "      <td>https://www.govtrack.us/congress/members/matth...</td>\n",
       "      <td>Lyon faced an allegation of spitting tobacco j...</td>\n",
       "    </tr>\n",
       "    <tr>\n",
       "      <th>2</th>\n",
       "      <td>3</td>\n",
       "      <td>Rep. Matthew Lyon</td>\n",
       "      <td>Republican</td>\n",
       "      <td>[R-KY1, 1807-1811]</td>\n",
       "      <td>Rep. Matthew Lyon [R-KY1, 1807-1811]</td>\n",
       "      <td>https://www.govtrack.us/congress/members/matth...</td>\n",
       "      <td>Lyon faced an allegation of “disorderly behavi...</td>\n",
       "    </tr>\n",
       "    <tr>\n",
       "      <th>3</th>\n",
       "      <td>4</td>\n",
       "      <td>Rep. Roger Griswold</td>\n",
       "      <td>Federalist</td>\n",
       "      <td>[F-CT-1, 1805-1807]</td>\n",
       "      <td>Rep. Roger Griswold [F-CT-1, 1805-1807]</td>\n",
       "      <td>https://www.govtrack.us/congress/members/roger...</td>\n",
       "      <td>Griswold faced an allegation of “disorderly be...</td>\n",
       "    </tr>\n",
       "    <tr>\n",
       "      <th>4</th>\n",
       "      <td>5</td>\n",
       "      <td>Sen. William Blount</td>\n",
       "      <td>Republican</td>\n",
       "      <td>[R-TN, 1796-1797]</td>\n",
       "      <td>Sen. William Blount [R-TN, 1796-1797]</td>\n",
       "      <td>https://www.govtrack.us/congress/members/willi...</td>\n",
       "      <td>Blount committed disloyalty to the United Stat...</td>\n",
       "    </tr>\n",
       "  </tbody>\n",
       "</table>\n",
       "</div>"
      ],
      "text/plain": [
       "   entry_index             member_name       party             district  \\\n",
       "0            1  Sen. Humphrey Marshall  Federalist    [F-KY, 1795-1801]   \n",
       "1            2       Rep. Matthew Lyon  Republican   [R-KY1, 1807-1811]   \n",
       "2            3       Rep. Matthew Lyon  Republican   [R-KY1, 1807-1811]   \n",
       "3            4     Rep. Roger Griswold  Federalist  [F-CT-1, 1805-1807]   \n",
       "4            5     Sen. William Blount  Republican    [R-TN, 1796-1797]   \n",
       "\n",
       "                                     member  \\\n",
       "0  Sen. Humphrey Marshall [F-KY, 1795-1801]   \n",
       "1      Rep. Matthew Lyon [R-KY1, 1807-1811]   \n",
       "2      Rep. Matthew Lyon [R-KY1, 1807-1811]   \n",
       "3   Rep. Roger Griswold [F-CT-1, 1805-1807]   \n",
       "4     Sen. William Blount [R-TN, 1796-1797]   \n",
       "\n",
       "                                         member_page  \\\n",
       "0  https://www.govtrack.us/congress/members/humph...   \n",
       "1  https://www.govtrack.us/congress/members/matth...   \n",
       "2  https://www.govtrack.us/congress/members/matth...   \n",
       "3  https://www.govtrack.us/congress/members/roger...   \n",
       "4  https://www.govtrack.us/congress/members/willi...   \n",
       "\n",
       "                                           paragraph  \n",
       "0  Marshall faced an allegation of misconduct pri...  \n",
       "1  Lyon faced an allegation of spitting tobacco j...  \n",
       "2  Lyon faced an allegation of “disorderly behavi...  \n",
       "3  Griswold faced an allegation of “disorderly be...  \n",
       "4  Blount committed disloyalty to the United Stat...  "
      ]
     },
     "execution_count": 31,
     "metadata": {},
     "output_type": "execute_result"
    }
   ],
   "source": [
    "entries_sql.head()"
   ]
  },
  {
   "cell_type": "code",
   "execution_count": 32,
   "metadata": {},
   "outputs": [
    {
     "data": {
      "text/html": [
       "<div>\n",
       "<style scoped>\n",
       "    .dataframe tbody tr th:only-of-type {\n",
       "        vertical-align: middle;\n",
       "    }\n",
       "\n",
       "    .dataframe tbody tr th {\n",
       "        vertical-align: top;\n",
       "    }\n",
       "\n",
       "    .dataframe thead th {\n",
       "        text-align: right;\n",
       "    }\n",
       "</style>\n",
       "<table border=\"1\" class=\"dataframe\">\n",
       "  <thead>\n",
       "    <tr style=\"text-align: right;\">\n",
       "      <th></th>\n",
       "      <th>entry_index</th>\n",
       "      <th>tags</th>\n",
       "    </tr>\n",
       "  </thead>\n",
       "  <tbody>\n",
       "    <tr>\n",
       "      <th>0</th>\n",
       "      <td>378</td>\n",
       "      <td>bribery &amp; corruption</td>\n",
       "    </tr>\n",
       "    <tr>\n",
       "      <th>1</th>\n",
       "      <td>378</td>\n",
       "      <td>campaign &amp; elections</td>\n",
       "    </tr>\n",
       "    <tr>\n",
       "      <th>2</th>\n",
       "      <td>378</td>\n",
       "      <td>unresolved</td>\n",
       "    </tr>\n",
       "    <tr>\n",
       "      <th>3</th>\n",
       "      <td>377</td>\n",
       "      <td>sexual harassment &amp; abuse</td>\n",
       "    </tr>\n",
       "    <tr>\n",
       "      <th>4</th>\n",
       "      <td>377</td>\n",
       "      <td>unresolved</td>\n",
       "    </tr>\n",
       "  </tbody>\n",
       "</table>\n",
       "</div>"
      ],
      "text/plain": [
       "   entry_index                       tags\n",
       "0          378       bribery & corruption\n",
       "1          378       campaign & elections\n",
       "2          378                 unresolved\n",
       "3          377  sexual harassment & abuse\n",
       "4          377                 unresolved"
      ]
     },
     "metadata": {},
     "output_type": "display_data"
    },
    {
     "data": {
      "text/html": [
       "<div>\n",
       "<style scoped>\n",
       "    .dataframe tbody tr th:only-of-type {\n",
       "        vertical-align: middle;\n",
       "    }\n",
       "\n",
       "    .dataframe tbody tr th {\n",
       "        vertical-align: top;\n",
       "    }\n",
       "\n",
       "    .dataframe thead th {\n",
       "        text-align: right;\n",
       "    }\n",
       "</style>\n",
       "<table border=\"1\" class=\"dataframe\">\n",
       "  <thead>\n",
       "    <tr style=\"text-align: right;\">\n",
       "      <th></th>\n",
       "      <th>entry_index</th>\n",
       "      <th>tags</th>\n",
       "    </tr>\n",
       "  </thead>\n",
       "  <tbody>\n",
       "    <tr>\n",
       "      <th>997</th>\n",
       "      <td>3</td>\n",
       "      <td>resolved</td>\n",
       "    </tr>\n",
       "    <tr>\n",
       "      <th>998</th>\n",
       "      <td>2</td>\n",
       "      <td>ethics violation</td>\n",
       "    </tr>\n",
       "    <tr>\n",
       "      <th>999</th>\n",
       "      <td>2</td>\n",
       "      <td>resolved</td>\n",
       "    </tr>\n",
       "    <tr>\n",
       "      <th>1000</th>\n",
       "      <td>1</td>\n",
       "      <td>ethics violation</td>\n",
       "    </tr>\n",
       "    <tr>\n",
       "      <th>1001</th>\n",
       "      <td>1</td>\n",
       "      <td>resolved</td>\n",
       "    </tr>\n",
       "  </tbody>\n",
       "</table>\n",
       "</div>"
      ],
      "text/plain": [
       "      entry_index              tags\n",
       "997             3          resolved\n",
       "998             2  ethics violation\n",
       "999             2          resolved\n",
       "1000            1  ethics violation\n",
       "1001            1          resolved"
      ]
     },
     "metadata": {},
     "output_type": "display_data"
    }
   ],
   "source": [
    "display(tags_sql.head())\n",
    "display(tags_sql.tail())"
   ]
  },
  {
   "cell_type": "code",
   "execution_count": 33,
   "metadata": {},
   "outputs": [
    {
     "data": {
      "text/html": [
       "<div>\n",
       "<style scoped>\n",
       "    .dataframe tbody tr th:only-of-type {\n",
       "        vertical-align: middle;\n",
       "    }\n",
       "\n",
       "    .dataframe tbody tr th {\n",
       "        vertical-align: top;\n",
       "    }\n",
       "\n",
       "    .dataframe thead th {\n",
       "        text-align: right;\n",
       "    }\n",
       "</style>\n",
       "<table border=\"1\" class=\"dataframe\">\n",
       "  <thead>\n",
       "    <tr style=\"text-align: right;\">\n",
       "      <th></th>\n",
       "      <th>entry_index</th>\n",
       "      <th>update_links</th>\n",
       "      <th>updates</th>\n",
       "    </tr>\n",
       "  </thead>\n",
       "  <tbody>\n",
       "    <tr>\n",
       "      <th>0</th>\n",
       "      <td>378</td>\n",
       "      <td>http://www.philly.com/philly/news/pennsylvania...</td>\n",
       "      <td>Nov. 1, 2017 Federal Bureau of Investigation i...</td>\n",
       "    </tr>\n",
       "    <tr>\n",
       "      <th>1</th>\n",
       "      <td>377</td>\n",
       "      <td>https://www.nytimes.com/2018/01/20/us/politics...</td>\n",
       "      <td>Jan. 20, 2018 House of Representatives removed...</td>\n",
       "    </tr>\n",
       "    <tr>\n",
       "      <th>2</th>\n",
       "      <td>377</td>\n",
       "      <td>https://ethics.house.gov/press-release/stateme...</td>\n",
       "      <td>Jan. 22, 2018 House Committee on Ethics opened...</td>\n",
       "    </tr>\n",
       "    <tr>\n",
       "      <th>3</th>\n",
       "      <td>376</td>\n",
       "      <td>https://ethics.house.gov/press-release/stateme...</td>\n",
       "      <td>Dec. 15, 2017 House Committee on Ethics opened...</td>\n",
       "    </tr>\n",
       "    <tr>\n",
       "      <th>4</th>\n",
       "      <td>376</td>\n",
       "      <td>https://www.washingtonpost.com/news/powerpost/...</td>\n",
       "      <td>Dec. 16, 2017 Kihuen will not seek re-election.</td>\n",
       "    </tr>\n",
       "  </tbody>\n",
       "</table>\n",
       "</div>"
      ],
      "text/plain": [
       "   entry_index                                       update_links  \\\n",
       "0          378  http://www.philly.com/philly/news/pennsylvania...   \n",
       "1          377  https://www.nytimes.com/2018/01/20/us/politics...   \n",
       "2          377  https://ethics.house.gov/press-release/stateme...   \n",
       "3          376  https://ethics.house.gov/press-release/stateme...   \n",
       "4          376  https://www.washingtonpost.com/news/powerpost/...   \n",
       "\n",
       "                                             updates  \n",
       "0  Nov. 1, 2017 Federal Bureau of Investigation i...  \n",
       "1  Jan. 20, 2018 House of Representatives removed...  \n",
       "2  Jan. 22, 2018 House Committee on Ethics opened...  \n",
       "3  Dec. 15, 2017 House Committee on Ethics opened...  \n",
       "4    Dec. 16, 2017 Kihuen will not seek re-election.  "
      ]
     },
     "metadata": {},
     "output_type": "display_data"
    }
   ],
   "source": [
    "display(timeline_sql.head())"
   ]
  },
  {
   "cell_type": "code",
   "execution_count": 34,
   "metadata": {},
   "outputs": [
    {
     "data": {
      "text/html": [
       "<div>\n",
       "<style scoped>\n",
       "    .dataframe tbody tr th:only-of-type {\n",
       "        vertical-align: middle;\n",
       "    }\n",
       "\n",
       "    .dataframe tbody tr th {\n",
       "        vertical-align: top;\n",
       "    }\n",
       "\n",
       "    .dataframe thead th {\n",
       "        text-align: right;\n",
       "    }\n",
       "</style>\n",
       "<table border=\"1\" class=\"dataframe\">\n",
       "  <thead>\n",
       "    <tr style=\"text-align: right;\">\n",
       "      <th></th>\n",
       "      <th>party</th>\n",
       "      <th>member_name</th>\n",
       "      <th>tags</th>\n",
       "    </tr>\n",
       "  </thead>\n",
       "  <tbody>\n",
       "    <tr>\n",
       "      <th>0</th>\n",
       "      <td>Federalist</td>\n",
       "      <td>Sen. Humphrey Marshall</td>\n",
       "      <td>ethics violation</td>\n",
       "    </tr>\n",
       "    <tr>\n",
       "      <th>1</th>\n",
       "      <td>Federalist</td>\n",
       "      <td>Sen. Humphrey Marshall</td>\n",
       "      <td>resolved</td>\n",
       "    </tr>\n",
       "    <tr>\n",
       "      <th>2</th>\n",
       "      <td>Republican</td>\n",
       "      <td>Rep. Matthew Lyon</td>\n",
       "      <td>ethics violation</td>\n",
       "    </tr>\n",
       "    <tr>\n",
       "      <th>3</th>\n",
       "      <td>Republican</td>\n",
       "      <td>Rep. Matthew Lyon</td>\n",
       "      <td>resolved</td>\n",
       "    </tr>\n",
       "    <tr>\n",
       "      <th>4</th>\n",
       "      <td>Republican</td>\n",
       "      <td>Rep. Matthew Lyon</td>\n",
       "      <td>ethics violation</td>\n",
       "    </tr>\n",
       "    <tr>\n",
       "      <th>5</th>\n",
       "      <td>Republican</td>\n",
       "      <td>Rep. Matthew Lyon</td>\n",
       "      <td>resolved</td>\n",
       "    </tr>\n",
       "    <tr>\n",
       "      <th>6</th>\n",
       "      <td>Federalist</td>\n",
       "      <td>Rep. Roger Griswold</td>\n",
       "      <td>ethics violation</td>\n",
       "    </tr>\n",
       "    <tr>\n",
       "      <th>7</th>\n",
       "      <td>Federalist</td>\n",
       "      <td>Rep. Roger Griswold</td>\n",
       "      <td>resolved</td>\n",
       "    </tr>\n",
       "    <tr>\n",
       "      <th>8</th>\n",
       "      <td>Republican</td>\n",
       "      <td>Sen. William Blount</td>\n",
       "      <td>other crimes</td>\n",
       "    </tr>\n",
       "    <tr>\n",
       "      <th>9</th>\n",
       "      <td>Republican</td>\n",
       "      <td>Sen. William Blount</td>\n",
       "      <td>expulsion</td>\n",
       "    </tr>\n",
       "  </tbody>\n",
       "</table>\n",
       "</div>"
      ],
      "text/plain": [
       "        party             member_name              tags\n",
       "0  Federalist  Sen. Humphrey Marshall  ethics violation\n",
       "1  Federalist  Sen. Humphrey Marshall          resolved\n",
       "2  Republican       Rep. Matthew Lyon  ethics violation\n",
       "3  Republican       Rep. Matthew Lyon          resolved\n",
       "4  Republican       Rep. Matthew Lyon  ethics violation\n",
       "5  Republican       Rep. Matthew Lyon          resolved\n",
       "6  Federalist     Rep. Roger Griswold  ethics violation\n",
       "7  Federalist     Rep. Roger Griswold          resolved\n",
       "8  Republican     Sen. William Blount      other crimes\n",
       "9  Republican     Sen. William Blount         expulsion"
      ]
     },
     "execution_count": 34,
     "metadata": {},
     "output_type": "execute_result"
    }
   ],
   "source": [
    "query = '''SELECT E.party, E.member_name, T.tags\n",
    "        FROM misconduct_entries E INNER JOIN misconduct_tags T\n",
    "        ON E.entry_index = T.entry_index\n",
    "        LIMIT 10'''\n",
    "pd.read_sql(query,con=engine)"
   ]
  },
  {
   "cell_type": "markdown",
   "metadata": {},
   "source": [
    "### Plot Results"
   ]
  },
  {
   "cell_type": "code",
   "execution_count": 35,
   "metadata": {},
   "outputs": [],
   "source": [
    "import matplotlib.pyplot as plt\n",
    "% matplotlib inline"
   ]
  },
  {
   "cell_type": "code",
   "execution_count": 36,
   "metadata": {},
   "outputs": [
    {
     "data": {
      "text/html": [
       "<div>\n",
       "<style scoped>\n",
       "    .dataframe tbody tr th:only-of-type {\n",
       "        vertical-align: middle;\n",
       "    }\n",
       "\n",
       "    .dataframe tbody tr th {\n",
       "        vertical-align: top;\n",
       "    }\n",
       "\n",
       "    .dataframe thead th {\n",
       "        text-align: right;\n",
       "    }\n",
       "</style>\n",
       "<table border=\"1\" class=\"dataframe\">\n",
       "  <thead>\n",
       "    <tr style=\"text-align: right;\">\n",
       "      <th></th>\n",
       "      <th>entry_index</th>\n",
       "    </tr>\n",
       "    <tr>\n",
       "      <th>tags</th>\n",
       "      <th></th>\n",
       "    </tr>\n",
       "  </thead>\n",
       "  <tbody>\n",
       "    <tr>\n",
       "      <th>resolved</th>\n",
       "      <td>364</td>\n",
       "    </tr>\n",
       "    <tr>\n",
       "      <th>ethics violation</th>\n",
       "      <td>157</td>\n",
       "    </tr>\n",
       "    <tr>\n",
       "      <th>bribery &amp; corruption</th>\n",
       "      <td>96</td>\n",
       "    </tr>\n",
       "    <tr>\n",
       "      <th>other crimes</th>\n",
       "      <td>82</td>\n",
       "    </tr>\n",
       "    <tr>\n",
       "      <th>campaign &amp; elections</th>\n",
       "      <td>66</td>\n",
       "    </tr>\n",
       "  </tbody>\n",
       "</table>\n",
       "</div>"
      ],
      "text/plain": [
       "                      entry_index\n",
       "tags                             \n",
       "resolved                      364\n",
       "ethics violation              157\n",
       "bribery & corruption           96\n",
       "other crimes                   82\n",
       "campaign & elections           66"
      ]
     },
     "execution_count": 36,
     "metadata": {},
     "output_type": "execute_result"
    }
   ],
   "source": [
    "# Plot most frequent tags\n",
    "top_tags = tags_sql.pivot_table(\n",
    "    index='tags',aggfunc='count').sort_values(\n",
    "    'entry_index',ascending=False)\n",
    "top_tags.head()"
   ]
  },
  {
   "cell_type": "code",
   "execution_count": 37,
   "metadata": {},
   "outputs": [
    {
     "data": {
      "image/png": "[encoded data removed]",
      "text/plain": [
       "<matplotlib.figure.Figure at 0x7f4f60e00908>"
      ]
     },
     "metadata": {},
     "output_type": "display_data"
    }
   ],
   "source": [
    "fig,ax = plt.subplots(figsize=(15,5))\n",
    "# Start from one to skip over \"resolved\"\n",
    "top_tags.iloc[1:11].plot(kind='bar',legend=None,rot=45,ax=ax)\n",
    "\n",
    "ax.set_title('Top 10 Misconduct Types',fontsize=18,fontweight='bold')\n",
    "ax.set_xlabel('')\n",
    "ax.set_ylabel('Number of Allegations',fontsize=12)\n",
    "\n",
    "plt.show()"
   ]
  },
  {
   "cell_type": "code",
   "execution_count": 38,
   "metadata": {},
   "outputs": [
    {
     "data": {
      "text/html": [
       "<div>\n",
       "<style scoped>\n",
       "    .dataframe tbody tr th:only-of-type {\n",
       "        vertical-align: middle;\n",
       "    }\n",
       "\n",
       "    .dataframe tbody tr th {\n",
       "        vertical-align: top;\n",
       "    }\n",
       "\n",
       "    .dataframe thead th {\n",
       "        text-align: right;\n",
       "    }\n",
       "</style>\n",
       "<table border=\"1\" class=\"dataframe\">\n",
       "  <thead>\n",
       "    <tr style=\"text-align: right;\">\n",
       "      <th></th>\n",
       "      <th>district</th>\n",
       "      <th>entry_index</th>\n",
       "      <th>member</th>\n",
       "      <th>member_name</th>\n",
       "      <th>member_page</th>\n",
       "      <th>paragraph</th>\n",
       "    </tr>\n",
       "    <tr>\n",
       "      <th>party</th>\n",
       "      <th></th>\n",
       "      <th></th>\n",
       "      <th></th>\n",
       "      <th></th>\n",
       "      <th></th>\n",
       "      <th></th>\n",
       "    </tr>\n",
       "  </thead>\n",
       "  <tbody>\n",
       "    <tr>\n",
       "      <th>Democrat</th>\n",
       "      <td>210</td>\n",
       "      <td>210</td>\n",
       "      <td>210</td>\n",
       "      <td>210</td>\n",
       "      <td>210</td>\n",
       "      <td>210</td>\n",
       "    </tr>\n",
       "    <tr>\n",
       "      <th>Republican</th>\n",
       "      <td>151</td>\n",
       "      <td>151</td>\n",
       "      <td>151</td>\n",
       "      <td>151</td>\n",
       "      <td>151</td>\n",
       "      <td>151</td>\n",
       "    </tr>\n",
       "    <tr>\n",
       "      <th>Whig</th>\n",
       "      <td>6</td>\n",
       "      <td>6</td>\n",
       "      <td>6</td>\n",
       "      <td>6</td>\n",
       "      <td>6</td>\n",
       "      <td>6</td>\n",
       "    </tr>\n",
       "    <tr>\n",
       "      <th>A (Miscellaneous)</th>\n",
       "      <td>4</td>\n",
       "      <td>4</td>\n",
       "      <td>4</td>\n",
       "      <td>4</td>\n",
       "      <td>4</td>\n",
       "      <td>4</td>\n",
       "    </tr>\n",
       "    <tr>\n",
       "      <th>Federalist</th>\n",
       "      <td>3</td>\n",
       "      <td>3</td>\n",
       "      <td>3</td>\n",
       "      <td>3</td>\n",
       "      <td>3</td>\n",
       "      <td>3</td>\n",
       "    </tr>\n",
       "  </tbody>\n",
       "</table>\n",
       "</div>"
      ],
      "text/plain": [
       "                   district  entry_index  member  member_name  member_page  \\\n",
       "party                                                                        \n",
       "Democrat                210          210     210          210          210   \n",
       "Republican              151          151     151          151          151   \n",
       "Whig                      6            6       6            6            6   \n",
       "A (Miscellaneous)         4            4       4            4            4   \n",
       "Federalist                3            3       3            3            3   \n",
       "\n",
       "                   paragraph  \n",
       "party                         \n",
       "Democrat                 210  \n",
       "Republican               151  \n",
       "Whig                       6  \n",
       "A (Miscellaneous)          4  \n",
       "Federalist                 3  "
      ]
     },
     "execution_count": 38,
     "metadata": {},
     "output_type": "execute_result"
    }
   ],
   "source": [
    "# Plot parties with most allegations\n",
    "top_parties = entries_sql.pivot_table(\n",
    "    index='party',\n",
    "    aggfunc='count'\n",
    ").sort_values('entry_index',ascending=False)\n",
    "top_parties.head()"
   ]
  },
  {
   "cell_type": "code",
   "execution_count": 39,
   "metadata": {},
   "outputs": [
    {
     "data": {
      "image/png": "[encoded data removed]",
      "text/plain": [
       "<matplotlib.figure.Figure at 0x7f4f5ed9fd68>"
      ]
     },
     "metadata": {},
     "output_type": "display_data"
    }
   ],
   "source": [
    "fig,ax = plt.subplots(figsize=(15,5))\n",
    "\n",
    "top_parties['entry_index'].plot(kind='bar',legend=None,rot=0,ax=ax)\n",
    "ax.set_title('Party by Misconduct Allegations',fontsize=18,fontweight='bold')\n",
    "ax.set_xlabel('Parties',fontsize=12)\n",
    "ax.set_ylabel('Number of Allegations',fontsize=12)\n",
    "\n",
    "plt.show()"
   ]
  },
  {
   "cell_type": "code",
   "execution_count": 40,
   "metadata": {},
   "outputs": [
    {
     "data": {
      "text/html": [
       "<div>\n",
       "<style scoped>\n",
       "    .dataframe tbody tr th:only-of-type {\n",
       "        vertical-align: middle;\n",
       "    }\n",
       "\n",
       "    .dataframe tbody tr th {\n",
       "        vertical-align: top;\n",
       "    }\n",
       "\n",
       "    .dataframe thead th {\n",
       "        text-align: right;\n",
       "    }\n",
       "</style>\n",
       "<table border=\"1\" class=\"dataframe\">\n",
       "  <thead>\n",
       "    <tr style=\"text-align: right;\">\n",
       "      <th></th>\n",
       "      <th>district</th>\n",
       "      <th>entry_index</th>\n",
       "      <th>member</th>\n",
       "      <th>member_page</th>\n",
       "      <th>paragraph</th>\n",
       "      <th>party</th>\n",
       "    </tr>\n",
       "    <tr>\n",
       "      <th>member_name</th>\n",
       "      <th></th>\n",
       "      <th></th>\n",
       "      <th></th>\n",
       "      <th></th>\n",
       "      <th></th>\n",
       "      <th></th>\n",
       "    </tr>\n",
       "  </thead>\n",
       "  <tbody>\n",
       "    <tr>\n",
       "      <th>Rep. Newton Gingrich</th>\n",
       "      <td>9</td>\n",
       "      <td>9</td>\n",
       "      <td>9</td>\n",
       "      <td>9</td>\n",
       "      <td>9</td>\n",
       "      <td>9</td>\n",
       "    </tr>\n",
       "    <tr>\n",
       "      <th>Rep. Luis Gutiérrez</th>\n",
       "      <td>4</td>\n",
       "      <td>4</td>\n",
       "      <td>4</td>\n",
       "      <td>4</td>\n",
       "      <td>4</td>\n",
       "      <td>4</td>\n",
       "    </tr>\n",
       "    <tr>\n",
       "      <th>Rep. Charles Wilson</th>\n",
       "      <td>4</td>\n",
       "      <td>4</td>\n",
       "      <td>4</td>\n",
       "      <td>4</td>\n",
       "      <td>4</td>\n",
       "      <td>4</td>\n",
       "    </tr>\n",
       "    <tr>\n",
       "      <th>Rep. John Adams</th>\n",
       "      <td>3</td>\n",
       "      <td>3</td>\n",
       "      <td>3</td>\n",
       "      <td>3</td>\n",
       "      <td>3</td>\n",
       "      <td>3</td>\n",
       "    </tr>\n",
       "    <tr>\n",
       "      <th>Rep. Matthew Lyon</th>\n",
       "      <td>3</td>\n",
       "      <td>3</td>\n",
       "      <td>3</td>\n",
       "      <td>3</td>\n",
       "      <td>3</td>\n",
       "      <td>3</td>\n",
       "    </tr>\n",
       "  </tbody>\n",
       "</table>\n",
       "</div>"
      ],
      "text/plain": [
       "                      district  entry_index  member  member_page  paragraph  \\\n",
       "member_name                                                                   \n",
       "Rep. Newton Gingrich         9            9       9            9          9   \n",
       "Rep. Luis Gutiérrez          4            4       4            4          4   \n",
       "Rep. Charles Wilson          4            4       4            4          4   \n",
       "Rep. John Adams              3            3       3            3          3   \n",
       "Rep. Matthew Lyon            3            3       3            3          3   \n",
       "\n",
       "                      party  \n",
       "member_name                  \n",
       "Rep. Newton Gingrich      9  \n",
       "Rep. Luis Gutiérrez       4  \n",
       "Rep. Charles Wilson       4  \n",
       "Rep. John Adams           3  \n",
       "Rep. Matthew Lyon         3  "
      ]
     },
     "execution_count": 40,
     "metadata": {},
     "output_type": "execute_result"
    }
   ],
   "source": [
    "# Plot members with most allegations\n",
    "top_member = entries_sql.pivot_table(\n",
    "    index='member_name',\n",
    "    aggfunc='count'\n",
    ").sort_values('entry_index',ascending=False)\n",
    "\n",
    "top_member.head()"
   ]
  },
  {
   "cell_type": "code",
   "execution_count": 41,
   "metadata": {},
   "outputs": [
    {
     "data": {
      "image/png": "[encoded data removed]",
      "text/plain": [
       "<matplotlib.figure.Figure at 0x7f4f5ed3dc18>"
      ]
     },
     "metadata": {},
     "output_type": "display_data"
    }
   ],
   "source": [
    "fig,ax = plt.subplots(figsize=(15,5))\n",
    "\n",
    "top_member['entry_index'].head(10).plot(kind='bar',legend=None,rot=45,ax=ax)\n",
    "ax.set_title('Top 10 Congress Members',fontsize=18,fontweight='bold')\n",
    "ax.set_xlabel('Congress Members',fontsize=12)\n",
    "ax.set_ylabel('Number of Allegations',fontsize=12)\n",
    "\n",
    "plt.show()"
   ]
  },
  {
   "cell_type": "code",
   "execution_count": null,
   "metadata": {},
   "outputs": [],
   "source": []
  }
 ],
 "metadata": {
  "kernelspec": {
   "display_name": "Python 3",
   "language": "python",
   "name": "python3"
  },
  "language_info": {
   "codemirror_mode": {
    "name": "ipython",
    "version": 3
   },
   "file_extension": ".py",
   "mimetype": "text/x-python",
   "name": "python",
   "nbconvert_exporter": "python",
   "pygments_lexer": "ipython3",
   "version": "3.6.1"
  }
 },
 "nbformat": 4,
 "nbformat_minor": 2
}

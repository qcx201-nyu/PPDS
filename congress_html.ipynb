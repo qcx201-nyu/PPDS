{
 "cells": [
  {
   "cell_type": "markdown",
   "metadata": {},
   "source": [
    "## Creating the Webserver Product Product"
   ]
  },
  {
   "cell_type": "code",
   "execution_count": 1,
   "metadata": {
    "scrolled": false
   },
   "outputs": [],
   "source": [
    "from sqlalchemy import create_engine\n",
    "from IPython.display import clear_output\n",
    "import json\n",
    "import os\n",
    "import pandas as pd\n",
    "\n",
    "pw = 'dwdstudent2015'\n",
    "password = input('password')\n",
    "\n",
    "conn_string = 'mysql://{user}:{password}@{host}:{port}/?charset=utf8'.format(\n",
    "    user     = 'root', \n",
    "    password = password, \n",
    "    host     = '127.0.0.01', \n",
    "    port     = 3306, \n",
    "    encoding = 'utf-8'\n",
    ")\n",
    "clear_output()\n",
    "engine = create_engine(conn_string)\n",
    "con = engine.connect()"
   ]
  },
  {
   "cell_type": "code",
   "execution_count": 2,
   "metadata": {},
   "outputs": [],
   "source": [
    "import politician_project as pp # Our own .py module"
   ]
  },
  {
   "cell_type": "code",
   "execution_count": 3,
   "metadata": {},
   "outputs": [],
   "source": [
    "def sql(query,show=True):\n",
    "    '''Outputs df with SQL query or executes SQL'''\n",
    "    try:\n",
    "        return pd.read_sql(query,con=engine)\n",
    "    except:\n",
    "        try:\n",
    "            engine.execute(query)\n",
    "            print('Executed:',query)\n",
    "        except:\n",
    "            print('###ERROR###')\n",
    "def open_json(file_name,folder='/data'):\n",
    "    '''Read json'''\n",
    "    import os\n",
    "    \n",
    "    if file_name[0] != '/':\n",
    "        file_name = '/'+file_name\n",
    "    if '.json' not in file_name:\n",
    "        file_name = file_name+'.json'\n",
    "\n",
    "    cwd = os.getcwd()\n",
    "\n",
    "    if folder not in file_name:\n",
    "        if cwd not in file_name:\n",
    "            file_path = cwd+folder+file_name\n",
    "        else:\n",
    "            file_path = folder + file_name\n",
    "    elif cwd not in file_name:\n",
    "        file_path = cwd+file_name\n",
    "    else:\n",
    "        file_path = file_name\n",
    "    file_path\n",
    "    \n",
    "    file = open(file_path,'r')\n",
    "    res = json.load(file,)\n",
    "    file.close()\n",
    "    return res"
   ]
  },
  {
   "cell_type": "code",
   "execution_count": 4,
   "metadata": {},
   "outputs": [],
   "source": [
    "## Member_ids for testing\n",
    "clinton = 'C001041'\n",
    "warren = 'W000817'\n",
    "smith = 'S001203'\n",
    "lamb = 'L000588'"
   ]
  },
  {
   "cell_type": "code",
   "execution_count": 5,
   "metadata": {},
   "outputs": [
    {
     "data": {
      "text/plain": [
       "['.DS_Store',\n",
       " 'house.json',\n",
       " 'politifact.json',\n",
       " 'senate.json',\n",
       " '.ipynb_checkpoints',\n",
       " 'votes.json']"
      ]
     },
     "execution_count": 5,
     "metadata": {},
     "output_type": "execute_result"
    }
   ],
   "source": [
    "os.listdir(os.getcwd()+'/data')"
   ]
  },
  {
   "cell_type": "code",
   "execution_count": 6,
   "metadata": {},
   "outputs": [
    {
     "name": "stdout",
     "output_type": "stream",
     "text": [
      "Executed: USE congress\n"
     ]
    }
   ],
   "source": [
    "sql('USE congress')\n",
    "\n",
    "#votes_data = open_json('votes')\n",
    "#pp.to_sql(pd.DataFrame(votes_data),'votes_raw',db='congress') # Memory error\n",
    "#sql('SELECT * FROM congress.votes_raw LIMIT 3')"
   ]
  },
  {
   "cell_type": "code",
   "execution_count": 7,
   "metadata": {},
   "outputs": [],
   "source": [
    "politifact = pp.clean_politifact(open_json('politifact'))"
   ]
  },
  {
   "cell_type": "code",
   "execution_count": 8,
   "metadata": {},
   "outputs": [
    {
     "data": {
      "text/html": [
       "<div>\n",
       "<style scoped>\n",
       "    .dataframe tbody tr th:only-of-type {\n",
       "        vertical-align: middle;\n",
       "    }\n",
       "\n",
       "    .dataframe tbody tr th {\n",
       "        vertical-align: top;\n",
       "    }\n",
       "\n",
       "    .dataframe thead th {\n",
       "        text-align: right;\n",
       "    }\n",
       "</style>\n",
       "<table border=\"1\" class=\"dataframe\">\n",
       "  <thead>\n",
       "    <tr style=\"text-align: right;\">\n",
       "      <th></th>\n",
       "      <th>ruling_slug</th>\n",
       "      <th>first_name</th>\n",
       "      <th>last_name</th>\n",
       "      <th>name_slug</th>\n",
       "      <th>home_state</th>\n",
       "      <th>party</th>\n",
       "      <th>statement</th>\n",
       "      <th>subject_slug</th>\n",
       "      <th>ruling_comments</th>\n",
       "      <th>ruling_date</th>\n",
       "      <th>statement_context</th>\n",
       "      <th>statement_type</th>\n",
       "      <th>statement_date</th>\n",
       "      <th>twitter_headline</th>\n",
       "      <th>sources</th>\n",
       "    </tr>\n",
       "  </thead>\n",
       "  <tbody>\n",
       "    <tr>\n",
       "      <th>4822</th>\n",
       "      <td>mostly-true</td>\n",
       "      <td>John</td>\n",
       "      <td>McCain</td>\n",
       "      <td>john-mccain</td>\n",
       "      <td>Arizona</td>\n",
       "      <td>republican</td>\n",
       "      <td>The failings in our civil service are encourag...</td>\n",
       "      <td>[federal-budget]</td>\n",
       "      <td>Sen. John McCain, the Arizona Republican, over...</td>\n",
       "      <td>2007-09-01 00:00:00</td>\n",
       "      <td>Oklahoma City.</td>\n",
       "      <td>Claim</td>\n",
       "      <td>2007-03-21</td>\n",
       "      <td>None</td>\n",
       "      <td>National Treasury Employees Union, email inter...</td>\n",
       "    </tr>\n",
       "    <tr>\n",
       "      <th>4823</th>\n",
       "      <td>full-flop</td>\n",
       "      <td>Mitt</td>\n",
       "      <td>Romney</td>\n",
       "      <td>mitt-romney</td>\n",
       "      <td>Massachusetts</td>\n",
       "      <td>republican</td>\n",
       "      <td>\\tOn signing a no-tax pledge</td>\n",
       "      <td>[taxes]</td>\n",
       "      <td>\\tThese days, it&amp;rsquo;s hard for candidates t...</td>\n",
       "      <td>2012-05-17 16:51:18</td>\n",
       "      <td>statements to the media</td>\n",
       "      <td>Flip</td>\n",
       "      <td>2007-01-04</td>\n",
       "      <td></td>\n",
       "      <td>&lt;p&gt;\\r\\n\\tDemocratic National Committee, &amp;quot;...</td>\n",
       "    </tr>\n",
       "    <tr>\n",
       "      <th>4824</th>\n",
       "      <td>full-flop</td>\n",
       "      <td>Elena</td>\n",
       "      <td>Kagan</td>\n",
       "      <td>elena-kagan</td>\n",
       "      <td>New York</td>\n",
       "      <td>democrat</td>\n",
       "      <td>On whether a U.S. Supreme Court nominee should...</td>\n",
       "      <td>[kagan-nomination, supreme-court]</td>\n",
       "      <td>We knew a flip flop might be coming after read...</td>\n",
       "      <td>2010-06-29 16:01:37</td>\n",
       "      <td>a law review article</td>\n",
       "      <td>Flip</td>\n",
       "      <td>1995-04-01</td>\n",
       "      <td>None</td>\n",
       "      <td>&lt;p&gt;U.S. Senate Judiciary Committee, hearings o...</td>\n",
       "    </tr>\n",
       "  </tbody>\n",
       "</table>\n",
       "</div>"
      ],
      "text/plain": [
       "      ruling_slug first_name last_name    name_slug     home_state  \\\n",
       "4822  mostly-true       John    McCain  john-mccain        Arizona   \n",
       "4823    full-flop       Mitt    Romney  mitt-romney  Massachusetts   \n",
       "4824    full-flop      Elena     Kagan  elena-kagan       New York   \n",
       "\n",
       "           party                                          statement  \\\n",
       "4822  republican  The failings in our civil service are encourag...   \n",
       "4823  republican                       \\tOn signing a no-tax pledge   \n",
       "4824    democrat  On whether a U.S. Supreme Court nominee should...   \n",
       "\n",
       "                           subject_slug  \\\n",
       "4822                   [federal-budget]   \n",
       "4823                            [taxes]   \n",
       "4824  [kagan-nomination, supreme-court]   \n",
       "\n",
       "                                        ruling_comments         ruling_date  \\\n",
       "4822  Sen. John McCain, the Arizona Republican, over... 2007-09-01 00:00:00   \n",
       "4823  \\tThese days, it&rsquo;s hard for candidates t... 2012-05-17 16:51:18   \n",
       "4824  We knew a flip flop might be coming after read... 2010-06-29 16:01:37   \n",
       "\n",
       "            statement_context statement_type statement_date twitter_headline  \\\n",
       "4822           Oklahoma City.          Claim     2007-03-21             None   \n",
       "4823  statements to the media           Flip     2007-01-04                    \n",
       "4824     a law review article           Flip     1995-04-01             None   \n",
       "\n",
       "                                                sources  \n",
       "4822  National Treasury Employees Union, email inter...  \n",
       "4823  <p>\\r\\n\\tDemocratic National Committee, &quot;...  \n",
       "4824  <p>U.S. Senate Judiciary Committee, hearings o...  "
      ]
     },
     "execution_count": 8,
     "metadata": {},
     "output_type": "execute_result"
    }
   ],
   "source": [
    "politifact.tail(3)"
   ]
  },
  {
   "cell_type": "code",
   "execution_count": 9,
   "metadata": {},
   "outputs": [
    {
     "name": "stdout",
     "output_type": "stream",
     "text": [
      "Executed: USE congress\n"
     ]
    },
    {
     "data": {
      "text/html": [
       "<div>\n",
       "<style scoped>\n",
       "    .dataframe tbody tr th:only-of-type {\n",
       "        vertical-align: middle;\n",
       "    }\n",
       "\n",
       "    .dataframe tbody tr th {\n",
       "        vertical-align: top;\n",
       "    }\n",
       "\n",
       "    .dataframe thead th {\n",
       "        text-align: right;\n",
       "    }\n",
       "</style>\n",
       "<table border=\"1\" class=\"dataframe\">\n",
       "  <thead>\n",
       "    <tr style=\"text-align: right;\">\n",
       "      <th></th>\n",
       "      <th>Tables_in_congress</th>\n",
       "    </tr>\n",
       "  </thead>\n",
       "  <tbody>\n",
       "    <tr>\n",
       "      <th>0</th>\n",
       "      <td>congress</td>\n",
       "    </tr>\n",
       "    <tr>\n",
       "      <th>1</th>\n",
       "      <td>house</td>\n",
       "    </tr>\n",
       "    <tr>\n",
       "      <th>2</th>\n",
       "      <td>senate</td>\n",
       "    </tr>\n",
       "    <tr>\n",
       "      <th>3</th>\n",
       "      <td>votes_raw</td>\n",
       "    </tr>\n",
       "  </tbody>\n",
       "</table>\n",
       "</div>"
      ],
      "text/plain": [
       "  Tables_in_congress\n",
       "0           congress\n",
       "1              house\n",
       "2             senate\n",
       "3          votes_raw"
      ]
     },
     "execution_count": 9,
     "metadata": {},
     "output_type": "execute_result"
    }
   ],
   "source": [
    "sql('USE congress')\n",
    "sql('SHOW tables')"
   ]
  },
  {
   "cell_type": "code",
   "execution_count": 10,
   "metadata": {},
   "outputs": [
    {
     "name": "stdout",
     "output_type": "stream",
     "text": [
      "Executed: DROP TABLE IF EXISTS congress.politifact\n"
     ]
    },
    {
     "name": "stderr",
     "output_type": "stream",
     "text": [
      "/anaconda/lib/python3.6/site-packages/sqlalchemy/engine/default.py:507: Warning: (1051, \"Unknown table 'congress.politifact'\")\n",
      "  cursor.execute(statement, parameters)\n"
     ]
    }
   ],
   "source": [
    "sql('DROP TABLE IF EXISTS congress.politifact')\n",
    "#politifact.to_sql('politifact',con=engine,index=False,if_exists='replace') # Error"
   ]
  },
  {
   "cell_type": "code",
   "execution_count": 11,
   "metadata": {},
   "outputs": [],
   "source": [
    "house = sql('SELECT * FROM congress.house')\n",
    "senate = sql('SELECT * FROM congress.senate')\n",
    "pp.to_sql(house.append(senate).reset_index(),'congress',db='congress')"
   ]
  },
  {
   "cell_type": "code",
   "execution_count": 12,
   "metadata": {},
   "outputs": [
    {
     "data": {
      "text/html": [
       "<div>\n",
       "<style scoped>\n",
       "    .dataframe tbody tr th:only-of-type {\n",
       "        vertical-align: middle;\n",
       "    }\n",
       "\n",
       "    .dataframe tbody tr th {\n",
       "        vertical-align: top;\n",
       "    }\n",
       "\n",
       "    .dataframe thead th {\n",
       "        text-align: right;\n",
       "    }\n",
       "</style>\n",
       "<table border=\"1\" class=\"dataframe\">\n",
       "  <thead>\n",
       "    <tr style=\"text-align: right;\">\n",
       "      <th></th>\n",
       "      <th>chamber</th>\n",
       "      <th>gender</th>\n",
       "      <th>congress</th>\n",
       "      <th>twitter_account</th>\n",
       "      <th>first_name</th>\n",
       "      <th>last_name</th>\n",
       "      <th>middle_name</th>\n",
       "      <th>date_of_birth</th>\n",
       "      <th>id</th>\n",
       "    </tr>\n",
       "  </thead>\n",
       "  <tbody>\n",
       "    <tr>\n",
       "      <th>0</th>\n",
       "      <td>Senate</td>\n",
       "      <td>F</td>\n",
       "      <td>115</td>\n",
       "      <td>SenWarren</td>\n",
       "      <td>Elizabeth</td>\n",
       "      <td>Warren</td>\n",
       "      <td>None</td>\n",
       "      <td>1949-06-22</td>\n",
       "      <td>W000817</td>\n",
       "    </tr>\n",
       "  </tbody>\n",
       "</table>\n",
       "</div>"
      ],
      "text/plain": [
       "  chamber gender  congress twitter_account first_name last_name middle_name  \\\n",
       "0  Senate      F       115       SenWarren  Elizabeth    Warren        None   \n",
       "\n",
       "  date_of_birth       id  \n",
       "0    1949-06-22  W000817  "
      ]
     },
     "execution_count": 12,
     "metadata": {},
     "output_type": "execute_result"
    }
   ],
   "source": [
    "query = '''\n",
    "SELECT {s} FROM congress.congress\n",
    "WHERE last_name = \"Warren\"\n",
    "ORDER BY congress DESC\n",
    "LIMIT 1'''.format(s=','.join(pp.col_other+pp.col_bio))\n",
    "sql(query)"
   ]
  },
  {
   "cell_type": "code",
   "execution_count": 13,
   "metadata": {},
   "outputs": [
    {
     "data": {
      "text/html": [
       "<div>\n",
       "<style scoped>\n",
       "    .dataframe tbody tr th:only-of-type {\n",
       "        vertical-align: middle;\n",
       "    }\n",
       "\n",
       "    .dataframe tbody tr th {\n",
       "        vertical-align: top;\n",
       "    }\n",
       "\n",
       "    .dataframe thead th {\n",
       "        text-align: right;\n",
       "    }\n",
       "</style>\n",
       "<table border=\"1\" class=\"dataframe\">\n",
       "  <thead>\n",
       "    <tr style=\"text-align: right;\">\n",
       "      <th></th>\n",
       "      <th>title</th>\n",
       "      <th>party</th>\n",
       "      <th>seniority</th>\n",
       "      <th>state</th>\n",
       "      <th>district</th>\n",
       "      <th>state_rank</th>\n",
       "      <th>leadership_role</th>\n",
       "      <th>in_office</th>\n",
       "      <th>next_election</th>\n",
       "    </tr>\n",
       "  </thead>\n",
       "  <tbody>\n",
       "    <tr>\n",
       "      <th>0</th>\n",
       "      <td>Senator, 1st Class</td>\n",
       "      <td>D</td>\n",
       "      <td>1</td>\n",
       "      <td>MA</td>\n",
       "      <td>None</td>\n",
       "      <td></td>\n",
       "      <td>None</td>\n",
       "      <td>0</td>\n",
       "      <td>2018</td>\n",
       "    </tr>\n",
       "    <tr>\n",
       "      <th>1</th>\n",
       "      <td>Senator, 1st Class</td>\n",
       "      <td>D</td>\n",
       "      <td>3</td>\n",
       "      <td>MA</td>\n",
       "      <td>None</td>\n",
       "      <td></td>\n",
       "      <td>None</td>\n",
       "      <td>0</td>\n",
       "      <td>2018</td>\n",
       "    </tr>\n",
       "    <tr>\n",
       "      <th>2</th>\n",
       "      <td>Senator, 1st Class</td>\n",
       "      <td>D</td>\n",
       "      <td>5</td>\n",
       "      <td>MA</td>\n",
       "      <td>None</td>\n",
       "      <td>senior</td>\n",
       "      <td>None</td>\n",
       "      <td>1</td>\n",
       "      <td>2018</td>\n",
       "    </tr>\n",
       "  </tbody>\n",
       "</table>\n",
       "</div>"
      ],
      "text/plain": [
       "                title party seniority state district state_rank  \\\n",
       "0  Senator, 1st Class     D         1    MA     None              \n",
       "1  Senator, 1st Class     D         3    MA     None              \n",
       "2  Senator, 1st Class     D         5    MA     None     senior   \n",
       "\n",
       "  leadership_role  in_office next_election  \n",
       "0            None          0          2018  \n",
       "1            None          0          2018  \n",
       "2            None          1          2018  "
      ]
     },
     "execution_count": 13,
     "metadata": {},
     "output_type": "execute_result"
    }
   ],
   "source": [
    "select = pp.col_position\n",
    "\n",
    "table_name = 'congress'\n",
    "condition = 'WHERE id = \"{mem_id}\"'.format(mem_id = warren)\n",
    "\n",
    "query = ('SELECT {columns} FROM {table} {condition}'\n",
    "     .format(columns = ','.join(select), table = table_name, condition = condition))\n",
    "sql(query)"
   ]
  },
  {
   "cell_type": "code",
   "execution_count": 14,
   "metadata": {},
   "outputs": [
    {
     "data": {
      "text/html": [
       "<div>\n",
       "<style scoped>\n",
       "    .dataframe tbody tr th:only-of-type {\n",
       "        vertical-align: middle;\n",
       "    }\n",
       "\n",
       "    .dataframe tbody tr th {\n",
       "        vertical-align: top;\n",
       "    }\n",
       "\n",
       "    .dataframe thead th {\n",
       "        text-align: right;\n",
       "    }\n",
       "</style>\n",
       "<table border=\"1\" class=\"dataframe\">\n",
       "  <thead>\n",
       "    <tr style=\"text-align: right;\">\n",
       "      <th></th>\n",
       "      <th>Tables_in_congress</th>\n",
       "    </tr>\n",
       "  </thead>\n",
       "  <tbody>\n",
       "    <tr>\n",
       "      <th>0</th>\n",
       "      <td>congress</td>\n",
       "    </tr>\n",
       "    <tr>\n",
       "      <th>1</th>\n",
       "      <td>house</td>\n",
       "    </tr>\n",
       "    <tr>\n",
       "      <th>2</th>\n",
       "      <td>senate</td>\n",
       "    </tr>\n",
       "    <tr>\n",
       "      <th>3</th>\n",
       "      <td>votes_raw</td>\n",
       "    </tr>\n",
       "  </tbody>\n",
       "</table>\n",
       "</div>"
      ],
      "text/plain": [
       "  Tables_in_congress\n",
       "0           congress\n",
       "1              house\n",
       "2             senate\n",
       "3          votes_raw"
      ]
     },
     "execution_count": 14,
     "metadata": {},
     "output_type": "execute_result"
    }
   ],
   "source": [
    "sql('SHOW tables')"
   ]
  },
  {
   "cell_type": "markdown",
   "metadata": {},
   "source": [
    "## Writing the HTML Page"
   ]
  },
  {
   "cell_type": "code",
   "execution_count": 15,
   "metadata": {},
   "outputs": [
    {
     "data": {
      "text/plain": [
       "['first_name', 'last_name', 'middle_name', 'date_of_birth', 'id']"
      ]
     },
     "execution_count": 15,
     "metadata": {},
     "output_type": "execute_result"
    }
   ],
   "source": [
    "pp.col_bio"
   ]
  },
  {
   "cell_type": "code",
   "execution_count": 16,
   "metadata": {},
   "outputs": [],
   "source": [
    "### member_page.py\n",
    "\n",
    "html_name = 'member_page'\n",
    "\n",
    "member_page_py = '''\n",
    "from flask import Flask, render_template, request\n",
    "from sqlalchemy import create_engine\n",
    "\n",
    "#import politician_project as pp\n",
    "\n",
    "app = Flask(__name__)\n",
    "\n",
    "@app.route('/{html}')\n",
    "\n",
    "def member_information():\n",
    "    \n",
    "    member_id = str(request.args.get('member_id'))\n",
    "\n",
    "    conn_string = 'mysql://{user}:{password}@{host}:{port}/?charset=utf8'.format(\n",
    "                    user     = 'root', \n",
    "                    password = {pw}, \n",
    "                    host     = '127.0.0.01', \n",
    "                    port     = 3306, \n",
    "                    encoding = 'utf-8')\n",
    "\n",
    "    engine = create_engine(conn_string)\n",
    "    con = engine.connect()\n",
    "    \n",
    "    db = 'congress'\n",
    "    \n",
    "    select = '*' #['first_name','last_name','party','state','title','seniority','id','congress']\n",
    "\n",
    "    table_name = 'congress'\n",
    "    condition = 'WHERE id = %s'\n",
    "    con.execute('USE {db}'.format(db=db))\n",
    "    \n",
    "    query = ('SELECT {columns} FROM {table} {condition}'\n",
    "             .format(columns = ','.join(select), table = table_name, condition = condition))\n",
    "\n",
    "    attributes = list(con.execute(query, (member_id,)))\n",
    "    image_url = \"http://bioguide.congress.gov/bioguide/photo/{b}/{bioguide}.jpg\".format(b=member_id[0],bioguide=member_id)\n",
    "\n",
    "    con.close()\n",
    "\n",
    "    return render_template('{html}.html', member_id = member_id,\n",
    "    attributes = list(attributes), image_url = image_url)\n",
    "\n",
    "app.run(host='0.0.0.0', port=5000, debug=True)\n",
    "'''.replace('{pw}',\"'\"+password+\"'\").replace('{html}',html_name)"
   ]
  },
  {
   "cell_type": "code",
   "execution_count": 17,
   "metadata": {},
   "outputs": [],
   "source": [
    "columns = pp.col_position\n",
    "\n",
    "def html_table(table_name, columns,source_name = 'attributes'):\n",
    "    \n",
    "    '''Outputs html string with iterated tables and attributes'''\n",
    "    \n",
    "    iter_name = 'attrb'\n",
    "    tab = '\\t'*3\n",
    "    th = '\\n'\n",
    "    td = '\\n'\n",
    "    for col in columns:\n",
    "        th += tab+'<th> ' + col.title().replace('_',' ') +' </th>\\n'\n",
    "        td += tab+'<td>{{ '+iter_name+'.'+col+' }}</td>\\n'\n",
    "\n",
    "    table = '''\n",
    "    <div class=\"panel panel-info\">\n",
    "        <div class=\"panel-heading\">\n",
    "            <h2 class=\"panel-title\"> {title} </h2>\n",
    "        </div>\n",
    "            <table  class=\"table table-striped table-bordered table-hover\">\n",
    "                <thead>\n",
    "                    <tr>    <!-- Construct table header -->\n",
    "                    {table_header}\n",
    "                    </tr>\n",
    "                </thead>\n",
    "                <tbody>\n",
    "                    {% for {iter} in {data_source} %}\n",
    "                        <tr>\n",
    "                    {table_data}\n",
    "                        </tr>\n",
    "                    {% endfor %}\n",
    "                </tbody>\n",
    "            </table>\n",
    "    </div>'''\n",
    "\n",
    "    replace = {\n",
    "        '{title}' : table_name,\n",
    "        '{table_header}' : th,\n",
    "        '{table_data}' : td,\n",
    "        '{data_source}' : source_name,\n",
    "        '{iter}' : iter_name\n",
    "    }\n",
    "\n",
    "    for element in replace:\n",
    "        table = table.replace(element,replace[element])\n",
    "\n",
    "    return table"
   ]
  },
  {
   "cell_type": "code",
   "execution_count": 18,
   "metadata": {},
   "outputs": [],
   "source": [
    "member_page = ('''\n",
    "<!DOCTYPE html>\n",
    "<html>\n",
    "<head>\n",
    "\t<link rel=\"stylesheet\" href=\"https://maxcdn.bootstrapcdn.com/bootstrap/3.3.7/css/bootstrap.min.css\" integrity=\"sha384-BVYiiSIFeK1dGmJRAkycuHAHRg32OmUcww7on3RYdg4Va+PmSTsz/K68vbdEjh4u\" crossorigin=\"anonymous\">\n",
    "</head>\n",
    "<body>\n",
    "\t<div class=\"container\">\n",
    "\t\t\t<table BORDER=\"0\" WIDTH=\"15%\" ALIGN=\"CENTER\">\n",
    "\t\t\t\t<thead>\n",
    "\t\t\t\t\t<tr><h4 align='center'> {{attributes[0].first_name}} {{attributes[0].last_name}} </h4></tr>\n",
    "\t\t\t\t</thead>\n",
    "\t\t\t\t<tbody>\n",
    "\t\t\t\t\t<td><IMG SRC={{image_url}}></IMG></td>\n",
    "\t\t\t\t</tbody>\n",
    "\t\t\t</table>\n",
    "\t\t{table1}\n",
    "        {table2}\n",
    "\t</div>\n",
    "</body>\n",
    "</html>\n",
    "'''\n",
    ".replace('{table1}',html_table('Senator Bio',pp.col_bio,'[attributes[-1]]'))\n",
    ".replace('{table2}',html_table('Congress Position',pp.col_position,'[attributes[-1]]'))\n",
    ")"
   ]
  },
  {
   "cell_type": "code",
   "execution_count": 19,
   "metadata": {},
   "outputs": [],
   "source": [
    "insert_tables = { # Name : query columns\n",
    "    'Bio Information' : pp.col_bio,\n",
    "    'Position (Latest)' : pp.col_position,\n",
    "    'Voting Summary' : ['congress'] + pp.col_policy ,\n",
    "    'Other Information' : pp.col_other\n",
    "}"
   ]
  },
  {
   "cell_type": "code",
   "execution_count": 20,
   "metadata": {},
   "outputs": [],
   "source": [
    "member_page = ('''\n",
    "<!DOCTYPE html>\n",
    "<html>\n",
    "<head>\n",
    "\t<link rel=\"stylesheet\" href=\"https://maxcdn.bootstrapcdn.com/bootstrap/3.3.7/css/bootstrap.min.css\" integrity=\"sha384-BVYiiSIFeK1dGmJRAkycuHAHRg32OmUcww7on3RYdg4Va+PmSTsz/K68vbdEjh4u\" crossorigin=\"anonymous\">\n",
    "</head>\n",
    "<body>\n",
    "\t<div class=\"container\">\n",
    "\t\t\t<table BORDER=\"0\" WIDTH=\"15%\" ALIGN=\"CENTER\">\n",
    "\t\t\t\t<thead>\n",
    "\t\t\t\t\t<tr><h4 align='center'>\n",
    "                    {{attributes[0].title[:3]}}. {{attributes[0].first_name}} {{attributes[0].last_name}}\n",
    "                    </h4></tr>\n",
    "\t\t\t\t</thead>\n",
    "\t\t\t\t<tbody>\n",
    "\t\t\t\t\t<td><IMG SRC={{image_url}}></IMG></td>\n",
    "\t\t\t\t</tbody>\n",
    "\t\t\t</table>\n",
    "\t\t{INSERT TABLES}\n",
    "\t</div>\n",
    "</body>\n",
    "</html>\n",
    "'''\n",
    ".replace('{INSERT TABLES}','\\n\\t\\t'.join(insert_tables))\n",
    ")\n",
    "\n",
    "for table in insert_tables:\n",
    "    if table != 'Voting Summary':\n",
    "        attributes = '[attributes[-1]]'\n",
    "    else:\n",
    "        attributes = 'attributes'\n",
    "    member_page = member_page.replace(table, html_table(table,insert_tables[table],attributes))"
   ]
  },
  {
   "cell_type": "code",
   "execution_count": 21,
   "metadata": {},
   "outputs": [],
   "source": [
    "cwd = os.getcwd()\n",
    "script_name = 'webserver.py'\n",
    "html_name = html_name + '.html'# already defined above\n",
    "\n",
    "server_script = cwd+'/'+script_name\n",
    "html_file = cwd+'/templates/'+html_name\n",
    "\n",
    "with open(server_script,'w',encoding='utf-8') as server:\n",
    "    server.write(member_page_py)\n",
    "    server.close()\n",
    "with open(html_file,'w',encoding='utf-8') as html:\n",
    "    html.write(member_page)\n",
    "    html.close()"
   ]
  },
  {
   "cell_type": "code",
   "execution_count": 22,
   "metadata": {},
   "outputs": [
    {
     "name": "stdout",
     "output_type": "stream",
     "text": [
      "Test: http://localhost:5000/member_page?member_id=C001041\n"
     ]
    }
   ],
   "source": [
    "route = html_name.replace('.html','')\n",
    "\n",
    "from notebook import notebookapp\n",
    "servers = list(notebookapp.list_running_servers())\n",
    "print('Test:',\n",
    "      servers[0]['url'].replace('8888','5000')+route+'?member_id={member}'.format(member=clinton))"
   ]
  },
  {
   "cell_type": "code",
   "execution_count": 24,
   "metadata": {},
   "outputs": [
    {
     "data": {
      "text/plain": [
       "0"
      ]
     },
     "execution_count": 24,
     "metadata": {},
     "output_type": "execute_result"
    }
   ],
   "source": [
    "# Runs script - interrupt kernel to stop\n",
    "os.system('python3 '+script_name)\n",
    "#os.system('python3 '+script_name + ' &') # run in background"
   ]
  },
  {
   "cell_type": "code",
   "execution_count": null,
   "metadata": {},
   "outputs": [],
   "source": []
  }
 ],
 "metadata": {
  "kernelspec": {
   "display_name": "Python 3",
   "language": "python",
   "name": "python3"
  },
  "language_info": {
   "codemirror_mode": {
    "name": "ipython",
    "version": 3
   },
   "file_extension": ".py",
   "mimetype": "text/x-python",
   "name": "python",
   "nbconvert_exporter": "python",
   "pygments_lexer": "ipython3",
   "version": "3.6.1"
  }
 },
 "nbformat": 4,
 "nbformat_minor": 1
}
